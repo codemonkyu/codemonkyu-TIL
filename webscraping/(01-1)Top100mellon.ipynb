{
 "cells": [
  {
   "cell_type": "code",
   "execution_count": 7,
   "metadata": {},
   "outputs": [],
   "source": [
    "import requests\n",
    "from bs4 import BeautifulSoup\n",
    "import re"
   ]
  },
  {
   "cell_type": "code",
   "execution_count": 8,
   "metadata": {},
   "outputs": [
    {
     "name": "stdout",
     "output_type": "stream",
     "text": [
      "200\n"
     ]
    }
   ],
   "source": [
    "url = 'https://www.melon.com/chart/index.htm'\n",
    "req_header_dict = {\n",
    "    # 요청헤더 : 브라우저정보\n",
    "    'user-agent': 'Mozilla/5.0 (Windows NT 10.0; Win64; x64) AppleWebKit/537.36 (KHTML, like Gecko) Chrome/97.0.4692.99 Safari/537.36'\n",
    "}\n",
    "res = requests.get(url, headers=req_header_dict)\n",
    "print(res.status_code)"
   ]
  },
  {
   "cell_type": "code",
   "execution_count": 9,
   "metadata": {},
   "outputs": [],
   "source": [
    "if res.ok:\n",
    "    html = res.text\n",
    "    #html 전체 소스보기\n",
    "    #print(html)\n",
    "    soup = BeautifulSoup(html, 'html.parser')\n",
    "    #html parsing\n",
    "    #print(soup)  "
   ]
  },
  {
   "cell_type": "code",
   "execution_count": 10,
   "metadata": {},
   "outputs": [
    {
     "name": "stdout",
     "output_type": "stream",
     "text": [
      "100\n"
     ]
    }
   ],
   "source": [
    "\n",
    "#parsing한 html중 곡에대한 정보를 담음 태그만 조회!!\n",
    "a_tags = soup.select(\"div#tb_list tr a[href*='playSong']\")\n",
    "print(len(soup.select(\"div#tb_list tr a[href*='playSong']\")))  \n",
    "#top100이니까 100이 나와야한다.\n",
    "#print(a_tags)"
   ]
  },
  {
   "cell_type": "code",
   "execution_count": 11,
   "metadata": {},
   "outputs": [
    {
     "name": "stdout",
     "output_type": "stream",
     "text": [
      "100\n",
      "[{'song_title': '취중고백', 'song_id': '34431086', 'song_detail_url': 'https://www.melon.com/song/detail.htm?songId=34431086'}, {'song_title': '호랑수월가', 'song_id': '34535898', 'song_detail_url': 'https://www.melon.com/song/detail.htm?songId=34535898'}, {'song_title': '사랑은 늘 도망가', 'song_id': '34061322', 'song_detail_url': 'https://www.melon.com/song/detail.htm?songId=34061322'}]\n"
     ]
    }
   ],
   "source": [
    "# playSong이 있는 <a></a>를 enumerate하여 dict형식으로 만들어준다.\n",
    "#Top 100곡의 정보를 저장할 list 선언\n",
    "song_list = []\n",
    "for idx, a_tag in enumerate(a_tags,1):\n",
    "    #노래 1곡의 정보를 저장할 dict 선언 \n",
    "    song_dict = {}\n",
    "    #노래 제목 갖고오기 <a href=\"\">노래제목</a>\n",
    "    song_title = a_tag.text\n",
    "    song_dict['song_title'] = song_title\n",
    "    \n",
    "    #print(song_dict)\n",
    "    \n",
    "    #a태그의 href 속성의 값을 추출하기 javascript:melon.play.playSong('1000002721',34535898);\n",
    "    href_value = a_tag['href']\n",
    "\n",
    "    #Song ID를 찾기 위한 정규표현식\n",
    "    matched = re.search(r'(\\d+)\\);', href_value)\n",
    "    #print(matched)\n",
    "    if matched:\n",
    "        song_id = matched.group(1) # group(0) : 34535898);  group(1) : 34535898\n",
    "        song_dict['song_id'] = song_id\n",
    "        #print(song_id)\n",
    "        \n",
    "        song_detail_url = f'https://www.melon.com/song/detail.htm?songId={song_id}' #곡정보의 url\n",
    "        song_dict['song_detail_url'] = song_detail_url\n",
    "        song_list.append(song_dict)\n",
    "\n",
    "print(len(song_list))    \n",
    "print(song_list[:3])"
   ]
  },
  {
   "cell_type": "code",
   "execution_count": 12,
   "metadata": {},
   "outputs": [
    {
     "name": "stdout",
     "output_type": "stream",
     "text": [
      "200\n"
     ]
    }
   ],
   "source": [
    "import requests\n",
    "from bs4 import BeautifulSoup\n",
    "import re\n",
    "\n",
    "url = 'https://www.melon.com/chart/index.htm'\n",
    "req_header_dict = {\n",
    "    # 요청헤더 : 브라우저정보\n",
    "    'user-agent': 'Mozilla/5.0 (Windows NT 10.0; Win64; x64) AppleWebKit/537.36 (KHTML, like Gecko) Chrome/97.0.4692.99 Safari/537.36'\n",
    "}\n",
    "res = requests.get(url, headers=req_header_dict)\n",
    "print(res.status_code)\n"
   ]
  },
  {
   "cell_type": "code",
   "execution_count": 55,
   "metadata": {},
   "outputs": [
    {
     "name": "stdout",
     "output_type": "stream",
     "text": [
      "[{'곡명': '취중고백', '가수': '김민석 (멜로망스)', '앨범': '취중고백', '발매일': '2021.12.19', '장르': '발라드', 'FLAC': 'Flac 16bit', '좋아요': 69231, '가사': '\\r\\n\\t\\t\\t\\t\\t\\t\\t뭐하고 있었니 늦었지만잠시 나올래너의 집 골목에 있는놀이터에 앉아 있어친구들 만나서 오랜만에술을 좀 했는데자꾸만 니 얼굴 떠올라무작정 달려왔어이 맘 모르겠니요즘 난 미친 사람처럼너만 생각해대책없이 네가 점점 좋아져아냐 안 취했어 진짜야널 정말 사랑해눈물이 날만큼 원하고 있어정말로 몰랐니가끔 전화해 장난치듯주말엔 뭐할거냐며너의 관심 끌던 나를그리고 한번씩 누나 주려 샀는데너 그냥 준다고생색 낸 선물도 너 때문에 산거야이 맘 모르겠니요즘 난 미친 사람처럼너만 생각해대책없이 네가 점점 좋아져아냐 안 취했어 진짜야널 정말 사랑해진심이야 믿어줘갑자기 이런 말 놀랐다면 미안해부담이 되는게 당연해이해해 널하지만 내 고백도 이해해 주겠니 oh지금 당장 대답하진마나와 일주일만 사귀어줄래후회없이 잘 해주고 싶은데그 후에도 니가 싫다면나 그때 포기할게귀찮게 안할게 혼자 아플게진심이야 너를 사랑하고 있어\\n'}, {'곡명': '호랑수월가', '가수': '탑현', '앨범': '호랑수월가', '발매일': '2022.01.15', '장르': '발라드', 'FLAC': 'Flac 16bit', '좋아요': 36042, '가사': '\\r\\n\\t\\t\\t\\t\\t\\t\\t흐르는 저 하늘을 물어 채는 범처럼태산에 날아들어 숨어드는 새처럼동산을 뛰고 뛰어가는 강아지처럼온 산에 풍물 막을 내리네바람은 지친 끝에 밤에 몸을 뉘이네별빛은 아뜩하니 은하수를 내리네차가운 밤하늘에 세상이 젖어 가네그리워 홀로 타령을 하자흘러가라 사랑사랑아덧없이 피고 떨어지는 꽃송아애닯구나 가락가락아눈물에 떨어진 별을 헤네푸른 달아 오랜 고운 내 달아비친 내 손에 내려다오은색 소매 내 곁에 두른 채로한 번만 타는 입을 축여다오푸른 달아 다시 없을 내 달아뻗은 손끝에 닿아다오달빛만이 흘러 바다가 되고지쳐 전하지 못하는 수월가고요한 바다 위로 내 노래가 떠 간다소리도 부끄러워 숨죽이고 떠 간다달빛에 젖은 몸을 내놓고서 떠 간다한낮이 비쳐 오를 때까지달아 달아 애달픈 달아피었다 이내 숨어 버릴 허상아시리구나 세월세월아나날을 헤면서 현을 뜯네푸른 달아 오랜 고운 내 달아비친 내 손에 내려다오은색 소매 내 곁에 두른 채로한 번만 타는 입을 축여다오푸른 달아 다시 없을 내 달아뻗은 손끝에 닿아다오달빛만이 흘러 바다가 되고지쳐 전하지 못하는 수월가서로 가자 굽이굽이 쳐 가자하늘에 닿을 너머까지밤아 가라 훠이훠이 가거라산 위에 걸린 저 달은 태평가서로 가자 굽이굽이 쳐 가자새벽에 닿을 너머까지달빛만이 흘러 바다가 되고지쳐 전하지 못하는 수월가하늘을 보며 그리는 풍류가손으로 잡을 수 없는 수월가\\n'}, {'곡명': '사랑은 늘 도망가', '가수': '임영웅', '앨범': '신사와 아가씨 OST Part.2', '발매일': '2021.10.11', '장르': '발라드, 국내드라마', 'FLAC': 'Flac 16/24bit', '좋아요': 124341, '가사': '\\r\\n\\t\\t\\t\\t\\t\\t\\t눈물이 난다 이 길을 걸으면그 사람 손길이 자꾸 생각이 난다붙잡지 못하고 가슴만 떨었지내 아름답던 사람아사랑이란 게 참 쓰린 거더라잡으려 할수록 더 멀어지더라이별이란 게 참 쉬운 거더라내 잊지 못할 사람아사랑아 왜 도망가수줍은 아이처럼행여 놓아버릴까 봐꼭 움켜쥐지만그리움이 쫓아 사랑은 늘 도망가잠시 쉬어가면 좋을 텐데바람이 분다 옷깃을 세워도차가운 이별의 눈물이 차올라잊지 못해서 가슴에 사무친내 소중했던 사람아사랑아 왜 도망가수줍은 아이처럼행여 놓아버릴까 봐꼭 움켜쥐지만그리움이 쫓아 사랑은 늘 도망가잠시 쉬어가면 좋을 텐데기다림도 애태움도 다 버려야 하는데무얼 찾아 이 길을 서성일까무얼 찾아 여기 있나사랑아 왜 도망가수줍은 아이처럼행여 놓아버릴까 봐꼭 움켜쥐지만그리움이 쫓아 사랑은 늘 도망가잠시 쉬어가면 좋을 텐데잠시 쉬어가면 좋을 텐데\\n'}]\n"
     ]
    }
   ],
   "source": [
    "song_detail_list = []\n",
    "for idx, song in enumerate(song_list[:3],1):\n",
    "    #노래 1곡의 상세정보를 저장할 dict\n",
    "    song_detail_dict = {}\n",
    "    song_detail_url = song['song_detail_url']\n",
    "\n",
    "    \n",
    "    res = requests.get(song_detail_url, headers=req_header_dict)\n",
    "    #print(res.status_code)\n",
    "    if res.ok:\n",
    "        soup = BeautifulSoup(res.text, 'html.parser')\n",
    "        #print(idx,song['song_title'])\n",
    "        song_detail_dict['곡명'] = song['song_title']\n",
    "        #노래 1곡의 상세정보에 '곡명'을 찾아 주었다. \n",
    "        #다음으로 상세정보 '가수'를 찾는다\n",
    "        singer = soup.select(\"a[href*='goArtistDetail'] span\")\n",
    "        #print(singer)\n",
    "        if singer:\n",
    "            song_detail_dict['가수'] = singer[0].text # singer리스트에서 0번째 순서에 해당하는것을 text로 뽑으면 이름이다.\n",
    "        #print(singer[0].text)\n",
    "        \n",
    "        #다음으로 div.meta에서 dd로 끝나는 값들을 넣어준다\n",
    "        song_di = soup.select(\"div.meta dd\")\n",
    "        #print(song_di)\n",
    "        if song_di:\n",
    "            song_detail_dict['앨범'] = song_di[0].text\n",
    "            song_detail_dict['발매일'] = song_di[1].text\n",
    "            song_detail_dict['장르'] = song_di[2].text\n",
    "            song_detail_dict['FLAC'] = song_di[3].text\n",
    "        \n",
    "        song_id = song['song_id'] #song_id = matched.group(1) 갖고 와서 곡별 고유 id를 이용하자\n",
    "        like_url = f'https://www.melon.com/commonlike/getSongLike.json?contsIds={song_id}'\n",
    "        like_res = requests.get(like_url, headers=req_header_dict)\n",
    "        \n",
    "        \n",
    "        if like_res.ok:\n",
    "           song_detail_dict['좋아요'] = like_res.json()['contsLike'][0]['SUMMCNT']\n",
    "           #{'contsLike': [{'CONTSID': 34061322, 'LIKEYN': 'N', 'SUMMCNT': 124335}], 'httpDomain': 'http://www.melon.com', 'httpsDomain': 'https://www.melon.com', 'staticDomain': 'https://static.melon.co.kr'}\n",
    "            #좋아요 수 추가 완료\n",
    "        \n",
    "        song_lyric = soup.select(\"div#d_video_summary\")\n",
    "        if song_lyric:\n",
    "            song_detail_dict['가사'] = song_lyric[0].text\n",
    "            pattern = re.compile(r'[\\r\\n\\t]')\n",
    "            # \\r\\n\\t 특수문자를 ''(empty string)으로 대체(substitute)해라\n",
    "            lyric = pattern.sub('', song_detail_dict['가사'].strip())\n",
    "        else:\n",
    "            lyric = ''\n",
    "        song_detail_dict['가사'] = lyric\n",
    "    \n",
    "        \n",
    "        song_detail_list.append(song_detail_dict)   \n",
    "print(song_detail_list)"
   ]
  },
  {
   "cell_type": "code",
   "execution_count": null,
   "metadata": {},
   "outputs": [],
   "source": []
  },
  {
   "cell_type": "code",
   "execution_count": null,
   "metadata": {},
   "outputs": [],
   "source": []
  }
 ],
 "metadata": {
  "interpreter": {
   "hash": "b4d6975e63639c3aa81a2dc73f143652a4160989bc4b8183e6854b604fb91be5"
  },
  "kernelspec": {
   "display_name": "Python 3.9.7 ('base')",
   "language": "python",
   "name": "python3"
  },
  "language_info": {
   "codemirror_mode": {
    "name": "ipython",
    "version": 3
   },
   "file_extension": ".py",
   "mimetype": "text/x-python",
   "name": "python",
   "nbconvert_exporter": "python",
   "pygments_lexer": "ipython3",
   "version": "3.9.7"
  },
  "orig_nbformat": 4
 },
 "nbformat": 4,
 "nbformat_minor": 2
}
