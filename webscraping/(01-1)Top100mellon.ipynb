{
 "cells": [
  {
   "cell_type": "code",
   "execution_count": 36,
   "metadata": {},
   "outputs": [],
   "source": [
    "import requests\n",
    "from bs4 import BeautifulSoup\n",
    "import re"
   ]
  },
  {
   "cell_type": "code",
   "execution_count": 37,
   "metadata": {},
   "outputs": [
    {
     "name": "stdout",
     "output_type": "stream",
     "text": [
      "200\n"
     ]
    }
   ],
   "source": [
    "url = 'https://www.melon.com/chart/index.htm'\n",
    "req_header_dict = {\n",
    "    # 요청헤더 : 브라우저정보\n",
    "    'user-agent': 'Mozilla/5.0 (Windows NT 10.0; Win64; x64) AppleWebKit/537.36 (KHTML, like Gecko) Chrome/97.0.4692.99 Safari/537.36'\n",
    "}\n",
    "res = requests.get(url, headers=req_header_dict)\n",
    "print(res.status_code)"
   ]
  },
  {
   "cell_type": "code",
   "execution_count": 38,
   "metadata": {},
   "outputs": [],
   "source": [
    "if res.ok:\n",
    "    html = res.text\n",
    "    #html 전체 소스보기\n",
    "    #print(html)\n",
    "    soup = BeautifulSoup(html, 'html.parser')\n",
    "    #html parsing\n",
    "    #print(soup)  "
   ]
  },
  {
   "cell_type": "code",
   "execution_count": 39,
   "metadata": {},
   "outputs": [
    {
     "name": "stdout",
     "output_type": "stream",
     "text": [
      "100\n"
     ]
    }
   ],
   "source": [
    "\n",
    "#parsing한 html중 곡에대한 정보를 담음 태그만 조회!!\n",
    "a_tags = soup.select(\"div#tb_list tr a[href*='playSong']\")\n",
    "print(len(soup.select(\"div#tb_list tr a[href*='playSong']\")))  \n",
    "#top100이니까 100이 나와야한다.\n",
    "#print(a_tags)"
   ]
  },
  {
   "cell_type": "code",
   "execution_count": 40,
   "metadata": {},
   "outputs": [
    {
     "name": "stdout",
     "output_type": "stream",
     "text": [
      "100\n",
      "[{'song_title': '사랑은 늘 도망가', 'song_id': '34061322', 'song_detail_url': 'https://www.melon.com/song/detail.htm?songId=34061322'}, {'song_title': '취중고백', 'song_id': '34431086', 'song_detail_url': 'https://www.melon.com/song/detail.htm?songId=34431086'}, {'song_title': '호랑수월가', 'song_id': '34535898', 'song_detail_url': 'https://www.melon.com/song/detail.htm?songId=34535898'}, {'song_title': '이제 나만 믿어요', 'song_id': '32508053', 'song_detail_url': 'https://www.melon.com/song/detail.htm?songId=32508053'}, {'song_title': 'Step Back', 'song_id': '34494149', 'song_detail_url': 'https://www.melon.com/song/detail.htm?songId=34494149'}, {'song_title': 'ELEVEN', 'song_id': '34349913', 'song_detail_url': 'https://www.melon.com/song/detail.htm?songId=34349913'}, {'song_title': '그대라는 사치', 'song_id': '33652821', 'song_detail_url': 'https://www.melon.com/song/detail.htm?songId=33652821'}, {'song_title': '별빛 같은 나의 사랑아', 'song_id': '33337651', 'song_detail_url': 'https://www.melon.com/song/detail.htm?songId=33337651'}, {'song_title': '다시 사랑한다면 (김필 Ver.)', 'song_id': '33514925', 'song_detail_url': 'https://www.melon.com/song/detail.htm?songId=33514925'}, {'song_title': '회전목마 (Feat. Zion.T, 원슈타인) (Prod. Slom)', 'song_id': '34256568', 'song_detail_url': 'https://www.melon.com/song/detail.htm?songId=34256568'}, {'song_title': '잊었니', 'song_id': '33606505', 'song_detail_url': 'https://www.melon.com/song/detail.htm?songId=33606505'}, {'song_title': 'HERO', 'song_id': '33036660', 'song_detail_url': 'https://www.melon.com/song/detail.htm?songId=33036660'}, {'song_title': '리무진 (Feat. MINO) (Prod. GRAY)', 'song_id': '34298499', 'song_detail_url': 'https://www.melon.com/song/detail.htm?songId=34298499'}, {'song_title': '끝사랑', 'song_id': '33630420', 'song_detail_url': 'https://www.melon.com/song/detail.htm?songId=33630420'}, {'song_title': 'Counting Stars (Feat. Beenzino)', 'song_id': '34398735', 'song_detail_url': 'https://www.melon.com/song/detail.htm?songId=34398735'}, {'song_title': 'Dreams Come True', 'song_id': '34436674', 'song_detail_url': 'https://www.melon.com/song/detail.htm?songId=34436674'}, {'song_title': 'Bk Love', 'song_id': '33599821', 'song_detail_url': 'https://www.melon.com/song/detail.htm?songId=33599821'}, {'song_title': '눈이 오잖아(Feat.헤이즈)', 'song_id': '34360855', 'song_detail_url': 'https://www.melon.com/song/detail.htm?songId=34360855'}, {'song_title': 'SMILEY (Feat. BIBI)', 'song_id': '34538515', 'song_detail_url': 'https://www.melon.com/song/detail.htm?songId=34538515'}, {'song_title': \"Can't Control Myself\", 'song_id': '34540831', 'song_detail_url': 'https://www.melon.com/song/detail.htm?songId=34540831'}, {'song_title': '다정히 내 이름을 부르면', 'song_id': '33496587', 'song_detail_url': 'https://www.melon.com/song/detail.htm?songId=33496587'}, {'song_title': '겨울잠', 'song_id': '34481682', 'song_detail_url': 'https://www.melon.com/song/detail.htm?songId=34481682'}, {'song_title': '계단말고 엘리베이터', 'song_id': '31254010', 'song_detail_url': 'https://www.melon.com/song/detail.htm?songId=31254010'}, {'song_title': 'Christmas Tree', 'song_id': '34461065', 'song_detail_url': 'https://www.melon.com/song/detail.htm?songId=34461065'}, {'song_title': '언덕나무', 'song_id': '34495462', 'song_detail_url': 'https://www.melon.com/song/detail.htm?songId=34495462'}, {'song_title': '만남은 쉽고 이별은 어려워 (Feat. Leellamarz) (Prod. TOIL)', 'song_id': '34298496', 'song_detail_url': 'https://www.melon.com/song/detail.htm?songId=34298496'}, {'song_title': 'STAY', 'song_id': '33658563', 'song_detail_url': 'https://www.melon.com/song/detail.htm?songId=33658563'}, {'song_title': 'Next Level', 'song_id': '33487342', 'song_detail_url': 'https://www.melon.com/song/detail.htm?songId=33487342'}, {'song_title': 'strawberry moon', 'song_id': '34101563', 'song_detail_url': 'https://www.melon.com/song/detail.htm?songId=34101563'}, {'song_title': '신호등', 'song_id': '33480898', 'song_detail_url': 'https://www.melon.com/song/detail.htm?songId=33480898'}, {'song_title': '드라마', 'song_id': '34481680', 'song_detail_url': 'https://www.melon.com/song/detail.htm?songId=34481680'}, {'song_title': 'Savage', 'song_id': '34041584', 'song_detail_url': 'https://www.melon.com/song/detail.htm?songId=34041584'}, {'song_title': '우리가 헤어져야 했던 이유', 'song_id': '34399272', 'song_detail_url': 'https://www.melon.com/song/detail.htm?songId=34399272'}, {'song_title': '너 아니면 안돼', 'song_id': '34592758', 'song_detail_url': 'https://www.melon.com/song/detail.htm?songId=34592758'}, {'song_title': 'Child', 'song_id': '34599641', 'song_detail_url': 'https://www.melon.com/song/detail.htm?songId=34599641'}, {'song_title': '서랍', 'song_id': '34373632', 'song_detail_url': 'https://www.melon.com/song/detail.htm?songId=34373632'}, {'song_title': '흰눈', 'song_id': '34397419', 'song_detail_url': 'https://www.melon.com/song/detail.htm?songId=34397419'}, {'song_title': 'abcdefu', 'song_id': '33808429', 'song_detail_url': 'https://www.melon.com/song/detail.htm?songId=33808429'}, {'song_title': 'Butter', 'song_id': '33507137', 'song_detail_url': 'https://www.melon.com/song/detail.htm?songId=33507137'}, {'song_title': '너를 생각해', 'song_id': '33978183', 'song_detail_url': 'https://www.melon.com/song/detail.htm?songId=33978183'}, {'song_title': '문득', 'song_id': '33448767', 'song_detail_url': 'https://www.melon.com/song/detail.htm?songId=33448767'}, {'song_title': 'OHAYO MY NIGHT', 'song_id': '32698101', 'song_detail_url': 'https://www.melon.com/song/detail.htm?songId=32698101'}, {'song_title': '네가 없는 밤 (Feat. ASH ISLAND) (Prod. GRAY)', 'song_id': '34366006', 'song_detail_url': 'https://www.melon.com/song/detail.htm?songId=34366006'}, {'song_title': 'Dynamite', 'song_id': '32872978', 'song_detail_url': 'https://www.melon.com/song/detail.htm?songId=32872978'}, {'song_title': 'Permission to Dance', 'song_id': '33666269', 'song_detail_url': 'https://www.melon.com/song/detail.htm?songId=33666269'}, {'song_title': '언제나 사랑해', 'song_id': '34599917', 'song_detail_url': 'https://www.melon.com/song/detail.htm?songId=34599917'}, {'song_title': '사랑이 아니었다고 말하지 마요', 'song_id': '34513916', 'song_detail_url': 'https://www.melon.com/song/detail.htm?songId=34513916'}, {'song_title': 'My Universe', 'song_id': '33998510', 'song_detail_url': 'https://www.melon.com/song/detail.htm?songId=33998510'}, {'song_title': '불협화음 (Feat. AKMU) (Prod. GRAY)', 'song_id': '34331506', 'song_detail_url': 'https://www.melon.com/song/detail.htm?songId=34331506'}, {'song_title': '바라만 본다', 'song_id': '33625988', 'song_detail_url': 'https://www.melon.com/song/detail.htm?songId=33625988'}, {'song_title': \"Good Night (Feat. BE'O)\", 'song_id': '34562040', 'song_detail_url': 'https://www.melon.com/song/detail.htm?songId=34562040'}, {'song_title': '쉬어 (Feat. MINO) (Prod. GRAY)', 'song_id': '34215822', 'song_detail_url': 'https://www.melon.com/song/detail.htm?songId=34215822'}, {'song_title': '그게 더 편할 것 같아 (N번째 연애 X 멜로망스)', 'song_id': '34326186', 'song_detail_url': 'https://www.melon.com/song/detail.htm?songId=34326186'}, {'song_title': 'Weekend', 'song_id': '33655994', 'song_detail_url': 'https://www.melon.com/song/detail.htm?songId=33655994'}, {'song_title': 'Wake Up (Prod. 코드 쿤스트)', 'song_id': '34215821', 'song_detail_url': 'https://www.melon.com/song/detail.htm?songId=34215821'}, {'song_title': '사이렌 Remix (Feat. UNEDUCATED KID, Paul Blanco)', 'song_id': '33359725', 'song_detail_url': 'https://www.melon.com/song/detail.htm?songId=33359725'}, {'song_title': 'DM', 'song_id': '34539150', 'song_detail_url': 'https://www.melon.com/song/detail.htm?songId=34539150'}, {'song_title': 'Celebrity', 'song_id': '33239419', 'song_detail_url': 'https://www.melon.com/song/detail.htm?songId=33239419'}, {'song_title': '찰나가 영원이 될 때 (The Eternal Moment)', 'song_id': '33976677', 'song_detail_url': 'https://www.melon.com/song/detail.htm?songId=33976677'}, {'song_title': '여름비', 'song_id': '34514465', 'song_detail_url': 'https://www.melon.com/song/detail.htm?songId=34514465'}, {'song_title': '강변북로', 'song_id': '34598904', 'song_detail_url': 'https://www.melon.com/song/detail.htm?songId=34598904'}, {'song_title': '이별후회', 'song_id': '34437341', 'song_detail_url': 'https://www.melon.com/song/detail.htm?songId=34437341'}, {'song_title': '낙하 (with 아이유)', 'song_id': '33725775', 'song_detail_url': 'https://www.melon.com/song/detail.htm?songId=33725775'}, {'song_title': '밤하늘의 별을(2020)', 'song_id': '33061995', 'song_detail_url': 'https://www.melon.com/song/detail.htm?songId=33061995'}, {'song_title': '헤픈 우연', 'song_id': '33503722', 'song_detail_url': 'https://www.melon.com/song/detail.htm?songId=33503722'}, {'song_title': '라일락', 'song_id': '33372781', 'song_detail_url': 'https://www.melon.com/song/detail.htm?songId=33372781'}, {'song_title': 'Because', 'song_id': '34564047', 'song_detail_url': 'https://www.melon.com/song/detail.htm?songId=34564047'}, {'song_title': 'Bad Habits', 'song_id': '33623210', 'song_detail_url': 'https://www.melon.com/song/detail.htm?songId=33623210'}, {'song_title': '고백', 'song_id': '33868791', 'song_detail_url': 'https://www.melon.com/song/detail.htm?songId=33868791'}, {'song_title': '어떻게 이별까지 사랑하겠어, 널 사랑하는 거지', 'song_id': '32061975', 'song_detail_url': 'https://www.melon.com/song/detail.htm?songId=32061975'}, {'song_title': '봄날', 'song_id': '30244931', 'song_detail_url': 'https://www.melon.com/song/detail.htm?songId=30244931'}, {'song_title': '추억은 만남보다 이별에 남아', 'song_id': '33248758', 'song_detail_url': 'https://www.melon.com/song/detail.htm?songId=33248758'}, {'song_title': '모든 날, 모든 순간 (Every day, Every Moment)', 'song_id': '30962526', 'song_detail_url': 'https://www.melon.com/song/detail.htm?songId=30962526'}, {'song_title': '너의 모든 순간', 'song_id': '4446485', 'song_detail_url': 'https://www.melon.com/song/detail.htm?songId=4446485'}, {'song_title': '안녕 우린 헤어져야만 해', 'song_id': '34465082', 'song_detail_url': 'https://www.melon.com/song/detail.htm?songId=34465082'}, {'song_title': 'Off My Face', 'song_id': '33359309', 'song_detail_url': 'https://www.melon.com/song/detail.htm?songId=33359309'}, {'song_title': '대낮에 한 이별', 'song_id': '34596035', 'song_detail_url': 'https://www.melon.com/song/detail.htm?songId=34596035'}, {'song_title': '작은 것들을 위한 시 (Boy With Luv) (Feat. Halsey)', 'song_id': '31737197', 'song_detail_url': 'https://www.melon.com/song/detail.htm?songId=31737197'}, {'song_title': '내 손을 잡아', 'song_id': '3414749', 'song_detail_url': 'https://www.melon.com/song/detail.htm?songId=3414749'}, {'song_title': '밝게 빛나는 별이 되어 비춰줄게', 'song_id': '33167063', 'song_detail_url': 'https://www.melon.com/song/detail.htm?songId=33167063'}, {'song_title': 'WA DA DA', 'song_id': '34491913', 'song_detail_url': 'https://www.melon.com/song/detail.htm?songId=34491913'}, {'song_title': '못해준 게 많아서', 'song_id': '34598809', 'song_detail_url': 'https://www.melon.com/song/detail.htm?songId=34598809'}, {'song_title': \"롤린 (Rollin')\", 'song_id': '30287019', 'song_detail_url': 'https://www.melon.com/song/detail.htm?songId=30287019'}, {'song_title': '오늘도 빛나는 너에게 (To You My Light) (Feat.이라온)', 'song_id': '31853557', 'song_detail_url': 'https://www.melon.com/song/detail.htm?songId=31853557'}, {'song_title': \"검정색하트 (Feat. Leellamarz, BE'O)\", 'song_id': '34588190', 'song_detail_url': 'https://www.melon.com/song/detail.htm?songId=34588190'}, {'song_title': 'Blueming', 'song_id': '32183386', 'song_detail_url': 'https://www.melon.com/song/detail.htm?songId=32183386'}, {'song_title': 'Dun Dun Dance', 'song_id': '33464805', 'song_detail_url': 'https://www.melon.com/song/detail.htm?songId=33464805'}, {'song_title': 'Savage Love (Laxed - Siren Beat) (BTS Remix)', 'song_id': '32962258', 'song_detail_url': 'https://www.melon.com/song/detail.htm?songId=32962258'}, {'song_title': '시간을 거슬러 (낮에 뜨는 달 X 케이윌)', 'song_id': '33878014', 'song_detail_url': 'https://www.melon.com/song/detail.htm?songId=33878014'}, {'song_title': 'Life Goes On', 'song_id': '33077234', 'song_detail_url': 'https://www.melon.com/song/detail.htm?songId=33077234'}, {'song_title': '그날에 나는 맘이 편했을까', 'song_id': '33107649', 'song_detail_url': 'https://www.melon.com/song/detail.htm?songId=33107649'}, {'song_title': '취기를 빌려 (취향저격 그녀 X 산들)', 'song_id': '32794652', 'song_detail_url': 'https://www.melon.com/song/detail.htm?songId=32794652'}, {'song_title': '만개 (Prod. 신지후)', 'song_id': '32906335', 'song_detail_url': 'https://www.melon.com/song/detail.htm?songId=32906335'}, {'song_title': 'Queendom', 'song_id': '33805289', 'song_detail_url': 'https://www.melon.com/song/detail.htm?songId=33805289'}, {'song_title': '나보다 더 사랑해요', 'song_id': '32560653', 'song_detail_url': 'https://www.melon.com/song/detail.htm?songId=32560653'}, {'song_title': 'Polaroid Love', 'song_id': '34518500', 'song_detail_url': 'https://www.melon.com/song/detail.htm?songId=34518500'}, {'song_title': '멜로디', 'song_id': '33315511', 'song_detail_url': 'https://www.melon.com/song/detail.htm?songId=33315511'}, {'song_title': '오묘해', 'song_id': '34536107', 'song_detail_url': 'https://www.melon.com/song/detail.htm?songId=34536107'}, {'song_title': '비가 오는 날엔 (2021)', 'song_id': '33759183', 'song_detail_url': 'https://www.melon.com/song/detail.htm?songId=33759183'}, {'song_title': '나 그댈위해 시 한편을 쓰겠어', 'song_id': '34171026', 'song_detail_url': 'https://www.melon.com/song/detail.htm?songId=34171026'}]\n"
     ]
    }
   ],
   "source": [
    "# playSong이 있는 <a></a>를 enumerate하여 dict형식으로 만들어준다.\n",
    "#Top 100곡의 정보를 저장할 list 선언\n",
    "song_list = []\n",
    "for idx, a_tag in enumerate(a_tags,1):\n",
    "    #노래 1곡의 정보를 저장할 dict 선언 \n",
    "    song_dict = {}\n",
    "    #노래 제목 갖고오기 <a href=\"\">노래제목</a>\n",
    "    song_title = a_tag.text\n",
    "    song_dict['song_title'] = song_title\n",
    "    \n",
    "    #print(song_dict)\n",
    "    \n",
    "    #a태그의 href 속성의 값을 추출하기 javascript:melon.play.playSong('1000002721',34535898);\n",
    "    href_value = a_tag['href']\n",
    "\n",
    "    #Song ID를 찾기 위한 정규표현식\n",
    "    matched = re.search(r'(\\d+)\\);', href_value)\n",
    "    #print(matched)\n",
    "    if matched:\n",
    "        song_id = matched.group(1) # group(0) : 34535898);  group(1) : 34535898\n",
    "        song_dict['song_id'] = song_id\n",
    "        #print(song_id)\n",
    "        \n",
    "        song_detail_url = f'https://www.melon.com/song/detail.htm?songId={song_id}' #곡정보의 url\n",
    "        song_dict['song_detail_url'] = song_detail_url\n",
    "        song_list.append(song_dict)\n",
    "\n",
    "print(len(song_list))\n",
    "print(song_list)"
   ]
  },
  {
   "cell_type": "code",
   "execution_count": 41,
   "metadata": {},
   "outputs": [
    {
     "name": "stdout",
     "output_type": "stream",
     "text": [
      "200\n"
     ]
    }
   ],
   "source": [
    "import requests\n",
    "from bs4 import BeautifulSoup\n",
    "import re\n",
    "\n",
    "url = 'https://www.melon.com/chart/index.htm'\n",
    "req_header_dict = {\n",
    "    # 요청헤더 : 브라우저정보\n",
    "    'user-agent': 'Mozilla/5.0 (Windows NT 10.0; Win64; x64) AppleWebKit/537.36 (KHTML, like Gecko) Chrome/97.0.4692.99 Safari/537.36'\n",
    "}\n",
    "res = requests.get(url, headers=req_header_dict)\n",
    "print(res.status_code)\n"
   ]
  },
  {
   "cell_type": "code",
   "execution_count": 45,
   "metadata": {},
   "outputs": [
    {
     "name": "stdout",
     "output_type": "stream",
     "text": [
      "[]\n"
     ]
    }
   ],
   "source": [
    "song_detail_list = []\n",
    "for idx, song in enumerate(song_list,1):\n",
    "    #노래 1곡의 상세정보를 저장할 dict\n",
    "    song_detail_dict = {}\n",
    "    song_detail_url = song['song_detail_url']\n",
    "\n",
    "    \n",
    "    res = requests.get(song_detail_url, headers=req_header_dict)\n",
    "    #print(res.status_code)\n",
    "    if res.ok:\n",
    "        soup = BeautifulSoup(res.text, 'html.parser')\n",
    "        #print(idx,song['song_title'])\n",
    "        song_detail_dict['곡명'] = song['song_title']\n",
    "        #노래 1곡의 상세정보에 '곡명'을 찾아 주었다. \n",
    "        #다음으로 상세정보 '가수'를 찾는다\n",
    "        singer = soup.select(\"a[href*='goArtistDetail'] span\")\n",
    "        #print(singer)\n",
    "        if singer:\n",
    "            song_detail_dict['가수'] = singer[0].text # singer리스트에서 0번째 순서에 해당하는것을 text로 뽑으면 이름이다.\n",
    "        #print(singer[0].text)\n",
    "        \n",
    "        #다음으로 div.meta에서 dd로 끝나는 값들을 넣어준다\n",
    "        song_di = soup.select(\"div.meta dd\")\n",
    "        #print(song_di)\n",
    "        if song_di:\n",
    "            song_detail_dict['앨범'] = song_di[0].text\n",
    "            song_detail_dict['발매일'] = song_di[1].text\n",
    "            song_detail_dict['장르'] = song_di[2].text\n",
    "          \n",
    "        \n",
    "        song_id = song['song_id'] #song_id = matched.group(1) 갖고 와서 곡별 고유 id를 이용하자\n",
    "        like_url = f'https://www.melon.com/commonlike/getSongLike.json?contsIds={song_id}'\n",
    "        like_res = requests.get(like_url, headers=req_header_dict)\n",
    "        \n",
    "        \n",
    "        if like_res.ok:\n",
    "           song_detail_dict['좋아요'] = like_res.json()['contsLike'][0]['SUMMCNT']\n",
    "           #{'contsLike': [{'CONTSID': 34061322, 'LIKEYN': 'N', 'SUMMCNT': 124335}], 'httpDomain': 'http://www.melon.com', 'httpsDomain': 'https://www.melon.com', 'staticDomain': 'https://static.melon.co.kr'}\n",
    "            #좋아요 수 추가 완료\n",
    "        \n",
    "        song_lyric = soup.select(\"div#d_video_summary\")\n",
    "        if song_lyric:\n",
    "            song_detail_dict['가사'] = song_lyric[0].text\n",
    "            pattern = re.compile(r'[\\r\\n\\t]')\n",
    "            # \\r\\n\\t 특수문자를 ''(empty string)으로 대체(substitute)해라\n",
    "            lyric = pattern.sub('', song_detail_dict['가사'].strip())\n",
    "        else:\n",
    "            lyric = ''\n",
    "        song_detail_dict['가사'] = lyric\n",
    "        \n",
    "        song_detail_list.append(song_detail_dict)   \n",
    "print(song_detail_list)"
   ]
  },
  {
   "cell_type": "code",
   "execution_count": 43,
   "metadata": {},
   "outputs": [],
   "source": [
    "import json\n",
    "\n",
    "with open('songs.json','w',encoding='utf-8') as file:\n",
    "    json.dump(song_detail_list, file)"
   ]
  },
  {
   "cell_type": "code",
   "execution_count": 44,
   "metadata": {},
   "outputs": [
    {
     "name": "stdout",
     "output_type": "stream",
     "text": [
      "[]\n"
     ]
    }
   ],
   "source": [
    "## songs.json을 load 해보자 \n",
    "\n",
    "with open('songs.json','r',encoding='utf-8') as file:\n",
    "    songs_json = json.loads(file.read())\n",
    "    \n",
    "print(songs_json)"
   ]
  },
  {
   "cell_type": "code",
   "execution_count": null,
   "metadata": {},
   "outputs": [],
   "source": []
  }
 ],
 "metadata": {
  "interpreter": {
   "hash": "b4d6975e63639c3aa81a2dc73f143652a4160989bc4b8183e6854b604fb91be5"
  },
  "kernelspec": {
   "display_name": "Python 3.9.7 ('base')",
   "language": "python",
   "name": "python3"
  },
  "language_info": {
   "codemirror_mode": {
    "name": "ipython",
    "version": 3
   },
   "file_extension": ".py",
   "mimetype": "text/x-python",
   "name": "python",
   "nbconvert_exporter": "python",
   "pygments_lexer": "ipython3",
   "version": "3.9.7"
  },
  "orig_nbformat": 4
 },
 "nbformat": 4,
 "nbformat_minor": 2
}
