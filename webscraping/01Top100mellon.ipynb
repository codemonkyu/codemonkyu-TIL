{
 "cells": [
  {
   "cell_type": "code",
   "execution_count": 3,
   "metadata": {},
   "outputs": [],
   "source": [
    "import requests\n",
    "from bs4 import BeautifulSoup\n",
    "import re"
   ]
  },
  {
   "cell_type": "code",
   "execution_count": 4,
   "metadata": {},
   "outputs": [
    {
     "name": "stdout",
     "output_type": "stream",
     "text": [
      "200\n"
     ]
    }
   ],
   "source": [
    "url = 'https://www.melon.com/chart/index.htm'\n",
    "req_header_dict = {\n",
    "    # 요청헤더 : 브라우저정보\n",
    "    'user-agent': 'Mozilla/5.0 (Windows NT 10.0; Win64; x64) AppleWebKit/537.36 (KHTML, like Gecko) Chrome/97.0.4692.99 Safari/537.36'\n",
    "}\n",
    "res = requests.get(url, headers=req_header_dict)\n",
    "print(res.status_code)"
   ]
  },
  {
   "cell_type": "code",
   "execution_count": 7,
   "metadata": {},
   "outputs": [],
   "source": [
    "if res.ok:\n",
    "    html = res.text\n",
    "    #html 전체 소스보기\n",
    "    #print(html)\n",
    "    soup = BeautifulSoup(html, 'html.parser')\n",
    "    #html parsing\n",
    "    #print(soup)  "
   ]
  },
  {
   "cell_type": "code",
   "execution_count": 10,
   "metadata": {},
   "outputs": [],
   "source": [
    "#parsing한 html중 곡 에대한 정보를 담음 태그만 조회!!\n",
    "a_tags = soup.select(\"div#tb_list tr a[href*='playSong']\")\n",
    "#print(a_tags)"
   ]
  },
  {
   "cell_type": "code",
   "execution_count": 12,
   "metadata": {},
   "outputs": [],
   "source": [
    "# playSong이 있는 <a></a>를 enumerate하여 dict형식으로 만들어준다.\n",
    "song_list = []\n",
    "for idx, a_tag in enumerate(a_tags,1):\n",
    "    #노래 1곡의 정보를 저장할 dict 선언 \n",
    "    song_dict = {}\n",
    "    #노래 제목 갖고오기\n",
    "    song_title = a_tag.text\n",
    "    song_dict['song_title'] = song_title\n",
    "    \n",
    "    #print(song_dict)\n",
    "    "
   ]
  },
  {
   "cell_type": "code",
   "execution_count": 14,
   "metadata": {},
   "outputs": [
    {
     "name": "stdout",
     "output_type": "stream",
     "text": [
      "<re.Match object; span=(44, 54), match='34599917);'>\n"
     ]
    }
   ],
   "source": [
    "    #a태그의 href 속성의 값을 추출하기 javascript:melon.play.playSong('1000002721',34535898);\n",
    "    href_value = a_tag['href']\n",
    "\n",
    "    #Song ID를 찾기 위한 정규표현식\n",
    "    matched = re.search(r'(\\d+)\\);', href_value)\n",
    "    print(matched)"
   ]
  },
  {
   "cell_type": "code",
   "execution_count": 21,
   "metadata": {},
   "outputs": [
    {
     "name": "stdout",
     "output_type": "stream",
     "text": [
      "10\n",
      "{'song_title': '언제나 사랑해', 'song_id': '34599917', 'song_detail_url': 'https://www.melon.com/song/detail.htm?songId=34599917'}\n"
     ]
    }
   ],
   "source": [
    "    if matched:\n",
    "        song_id = matched.group(1) # group(0) : 34535898);  group(1) : 34535898\n",
    "        song_dict['song_id'] = song_id\n",
    "        #print(song_id)\n",
    "        \n",
    "        song_detail_url = f'https://www.melon.com/song/detail.htm?songId={song_id}'\n",
    "        song_dict['song_detail_url'] = song_detail_url\n",
    "        song_list.append(song_dict)\n",
    "\n",
    "print(len(song_list))    \n",
    "print(song_list[0])"
   ]
  }
 ],
 "metadata": {
  "interpreter": {
   "hash": "b4d6975e63639c3aa81a2dc73f143652a4160989bc4b8183e6854b604fb91be5"
  },
  "kernelspec": {
   "display_name": "Python 3.9.7 ('base')",
   "language": "python",
   "name": "python3"
  },
  "language_info": {
   "codemirror_mode": {
    "name": "ipython",
    "version": 3
   },
   "file_extension": ".py",
   "mimetype": "text/x-python",
   "name": "python",
   "nbconvert_exporter": "python",
   "pygments_lexer": "ipython3",
   "version": "3.9.7"
  },
  "orig_nbformat": 4
 },
 "nbformat": 4,
 "nbformat_minor": 2
}
