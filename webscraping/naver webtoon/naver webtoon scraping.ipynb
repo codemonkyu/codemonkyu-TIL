{
 "cells": [
  {
   "cell_type": "markdown",
   "metadata": {},
   "source": [
    "### 웹툰 이미지를 다운로드 하여 로컬에 저장하기"
   ]
  },
  {
   "cell_type": "code",
   "execution_count": 16,
   "metadata": {},
   "outputs": [
    {
     "name": "stdout",
     "output_type": "stream",
     "text": [
      "200\n",
      "Write to file: webtoonimg/20220209180003_7730b7fb6d510e4fa7b7b1292a3ca472_IMAG01_1.jpg (105043): bytes\n",
      "200\n",
      "Write to file: webtoonimg/20220209180003_7730b7fb6d510e4fa7b7b1292a3ca472_IMAG01_2.jpg (119375): bytes\n",
      "200\n",
      "Write to file: webtoonimg/20220209180003_7730b7fb6d510e4fa7b7b1292a3ca472_IMAG01_3.jpg (111900): bytes\n"
     ]
    }
   ],
   "source": [
    "import requests\n",
    "import os   \n",
    "\n",
    "req_header_dict = {\n",
    "    'referer':'https://comic.naver.com/webtoon/detail?titleId=748105&no=149&weekday=thu' \n",
    "}\n",
    "\n",
    "img_url_list = [\n",
    "    'https://image-comic.pstatic.net/webtoon/748105/149/20220209180003_7730b7fb6d510e4fa7b7b1292a3ca472_IMAG01_1.jpg',\n",
    "    'https://image-comic.pstatic.net/webtoon/748105/149/20220209180003_7730b7fb6d510e4fa7b7b1292a3ca472_IMAG01_2.jpg',\n",
    "    'https://image-comic.pstatic.net/webtoon/748105/149/20220209180003_7730b7fb6d510e4fa7b7b1292a3ca472_IMAG01_3.jpg'\n",
    "]\n",
    "\n",
    "for img_url in img_url_list:\n",
    "    res = requests.get(img_url, headers = req_header_dict)\n",
    "    print(res.status_code)\n",
    "    \n",
    "    if res.ok:\n",
    "        #binary data 가져올때 .content 속성사용\n",
    "        img_data = res.content\n",
    "        \n",
    "        # url에서 파일명만 추출하기\n",
    "        file_name = os.path.basename(img_url)\n",
    "        file_name ='webtoonimg/' + file_name\n",
    "\n",
    "        # 서버에서 가져온 binary data를 file로 저장하기\n",
    "        with open(file_name, 'wb') as file:\n",
    "            print(f'Write to file: {file_name} ({len(img_data)}): bytes')\n",
    "            file.write(img_data)"
   ]
  },
  {
   "cell_type": "markdown",
   "metadata": {},
   "source": [
    "### 웹툰의 특정회차의 모든 image 다운로드 하기\n",
    "* Attribute Selector를 사용하여 jpg 파일명들을 모두 추출하여 리스트에 저장하기"
   ]
  },
  {
   "cell_type": "code",
   "execution_count": 37,
   "metadata": {},
   "outputs": [
    {
     "name": "stdout",
     "output_type": "stream",
     "text": [
      "200\n",
      "25\n"
     ]
    }
   ],
   "source": [
    "import requests\n",
    "from bs4 import BeautifulSoup\n",
    "\n",
    "main_url = 'https://comic.naver.com/webtoon/detail?titleId=748105&no=149&weekday=thu'\n",
    "\n",
    "res = requests.get(main_url)\n",
    "print(res.status_code)\n",
    "\n",
    "if res.ok:\n",
    "    soup = BeautifulSoup(res.text, 'html.parser')\n",
    "    img_tags = soup.select(\"img[src*='.jpg']\")\n",
    "    #print(img_tags)\n",
    "    \n",
    "    img_url_list = []\n",
    "    for img_tag in img_tags:\n",
    "        img_url = img_tag['src']\n",
    "        \n",
    "        img_url_list.append(img_url)\n",
    "        \n",
    "        # print(img_url_list)\n",
    "        \n",
    "print(len(img_url_list))\n",
    "        \n",
    "        "
   ]
  },
  {
   "cell_type": "markdown",
   "metadata": {},
   "source": [
    "### img 디렉토리 생성하기 \n",
    "### 디렉토리 생성하는 2가지 함수\n",
    "* os.mkdir() / osk.makedirs()\n",
    " 1. os.mkdir() 은 1개 폴더만 생성\n",
    " 2. os.makedirs() 는 a/b/c 처럼 하위 폴더를 생성\n"
   ]
  },
  {
   "cell_type": "code",
   "execution_count": 38,
   "metadata": {},
   "outputs": [],
   "source": [
    "import os\n",
    "\n",
    "dir_path = 'img'"
   ]
  },
  {
   "cell_type": "markdown",
   "metadata": {},
   "source": [
    "* 리스트를 순회하면서 image 다운로드 하기"
   ]
  },
  {
   "cell_type": "code",
   "execution_count": 42,
   "metadata": {},
   "outputs": [],
   "source": [
    "for idx, img_url in enumerate(img_url_list,1):\n",
    "    req_header = {'referer':main_url}\n",
    "    res = requests.get(img_url, headers=req_header)\n",
    "    \n",
    "    #print(res.status_code)\n",
    "    if res.ok:\n",
    "        img_data = res.content\n",
    "        file_name = os.path.basename(img_url)\n",
    "        file_name = 'webtoonimg/' + file_name\n",
    "        with open(file_name, 'wb') as file:\n",
    "            file.write(img_data)\n",
    "            "
   ]
  },
  {
   "cell_type": "code",
   "execution_count": 43,
   "metadata": {},
   "outputs": [],
   "source": [
    "# 파일들이 있는 디렉토리 삭제\n",
    "import shutil\n",
    "import os\n",
    "\n",
    "#img 디렉토리가 있다면\n",
    "dir_path = 'img'\n",
    "if os.path.exists(dir_path):\n",
    "    shutil.rmtree(dir_path)"
   ]
  },
  {
   "cell_type": "markdown",
   "metadata": {},
   "source": [
    "### 웹툰의 타이틀과 특정회차 url을 아규먼트 받아서 다운로드 하는 함수 구현하기"
   ]
  },
  {
   "cell_type": "code",
   "execution_count": 50,
   "metadata": {},
   "outputs": [],
   "source": [
    "def download_image(title, round_url):\n",
    "    import requests\n",
    "    from bs4 import BeautifulSoup\n",
    "    import os\n",
    "    import shutil\n",
    "    \n",
    "    # img 폴더가 있으면 삭제하기\n",
    "    dir_path = 'webtoon img'\n",
    "    \n",
    "    if os.path.exists(dir_path):\n",
    "        shutil.rmtree(dir_path)\n",
    "        \n",
    "    #img 디렉토리가 없으면\n",
    "    if not os.path.isdir(dir_path):\n",
    "        #img\\외모지상주의\n",
    "        title_path = os.path.join(dir_path, title)\n",
    "        print(title_path)\n",
    "        os.makedirs(title_path)\n",
    "    \n",
    "    # img url 목록을 알아내기 위한 요청을 보내기\n",
    "    res = requests.get(round_url)\n",
    "    if res.ok:\n",
    "        # 응답으로 받은 html텍스트를 파싱하기 위한 파서(BeautifulSoup)객체생성\n",
    "        soup = BeautifulSoup(res.text, 'html.parser')\n",
    "        # img태그 중에서 src 속성의 값이 .jpg로 끝나는 태그들만 선택하기\n",
    "        img_tags = soup.select(\"img[src$='.jpg']\") \n",
    "        print( len(img_tags), type(img_tags) )\n",
    "        \n",
    "        # 특정회차 url을 referer 헤더로 설정하기\n",
    "        req_header = { 'referer':round_url }\n",
    "        \n",
    "        for idx, img_tag in enumerate(img_tags,1):\n",
    "            #img 태그의 src 속성의 값을 추출하기\n",
    "            print(f'------> 다운로드 번호 {idx}')\n",
    "            img_url = img_tag['src']\n",
    "            \n",
    "            # jpg image 데이터 요청하기\n",
    "            res_img = requests.get(img_url, headers=req_header)\n",
    "            if res_img.ok:\n",
    "                # image binary 데이터 가져오기\n",
    "                img_data = res_img.content\n",
    "                \n",
    "                #img\\title\\thumbnail_IMAG04_be987481-7e58-478d-ae1b-c33228ccc658.jpg\n",
    "                file_name = title_path + '\\\\' + os.path.basename(img_url)\n",
    "                \n",
    "                with open(file_name, 'wb') as file:\n",
    "                    print(f'{file_name} ({len(img_data)}) bytes')\n",
    "                    file.write(img_data)"
   ]
  },
  {
   "cell_type": "code",
   "execution_count": 51,
   "metadata": {},
   "outputs": [
    {
     "name": "stdout",
     "output_type": "stream",
     "text": [
      "webtoon img\\독립일기\n",
      "23 <class 'bs4.element.ResultSet'>\n",
      "------> 다운로드 번호 1\n",
      "webtoon img\\독립일기\\thumbnail_IMAG04_2b479f04-a16b-4fa2-9a05-bc60cd84022c.jpg (15357) bytes\n",
      "------> 다운로드 번호 2\n",
      "webtoon img\\독립일기\\20220203154235_037a3e60ac006660a88f7e3b5b9bb37f_IMAG01_1.jpg (150355) bytes\n",
      "------> 다운로드 번호 3\n",
      "webtoon img\\독립일기\\20220203154235_037a3e60ac006660a88f7e3b5b9bb37f_IMAG01_2.jpg (124091) bytes\n",
      "------> 다운로드 번호 4\n",
      "webtoon img\\독립일기\\20220203154235_037a3e60ac006660a88f7e3b5b9bb37f_IMAG01_3.jpg (136037) bytes\n",
      "------> 다운로드 번호 5\n",
      "webtoon img\\독립일기\\20220203154235_037a3e60ac006660a88f7e3b5b9bb37f_IMAG01_4.jpg (115287) bytes\n",
      "------> 다운로드 번호 6\n",
      "webtoon img\\독립일기\\20220203154235_037a3e60ac006660a88f7e3b5b9bb37f_IMAG01_5.jpg (149182) bytes\n",
      "------> 다운로드 번호 7\n",
      "webtoon img\\독립일기\\20220203154235_037a3e60ac006660a88f7e3b5b9bb37f_IMAG01_6.jpg (164473) bytes\n",
      "------> 다운로드 번호 8\n",
      "webtoon img\\독립일기\\20220203154235_037a3e60ac006660a88f7e3b5b9bb37f_IMAG01_7.jpg (101341) bytes\n",
      "------> 다운로드 번호 9\n",
      "webtoon img\\독립일기\\20220203154235_037a3e60ac006660a88f7e3b5b9bb37f_IMAG01_8.jpg (139967) bytes\n",
      "------> 다운로드 번호 10\n",
      "webtoon img\\독립일기\\20220203154235_037a3e60ac006660a88f7e3b5b9bb37f_IMAG01_9.jpg (145171) bytes\n",
      "------> 다운로드 번호 11\n",
      "webtoon img\\독립일기\\20220203154235_037a3e60ac006660a88f7e3b5b9bb37f_IMAG01_10.jpg (144772) bytes\n",
      "------> 다운로드 번호 12\n",
      "webtoon img\\독립일기\\20220203154235_037a3e60ac006660a88f7e3b5b9bb37f_IMAG01_11.jpg (171591) bytes\n",
      "------> 다운로드 번호 13\n",
      "webtoon img\\독립일기\\20220203154235_037a3e60ac006660a88f7e3b5b9bb37f_IMAG01_12.jpg (132682) bytes\n",
      "------> 다운로드 번호 14\n",
      "webtoon img\\독립일기\\20220203154235_037a3e60ac006660a88f7e3b5b9bb37f_IMAG01_13.jpg (160109) bytes\n",
      "------> 다운로드 번호 15\n",
      "webtoon img\\독립일기\\20220203154235_037a3e60ac006660a88f7e3b5b9bb37f_IMAG01_14.jpg (56634) bytes\n",
      "------> 다운로드 번호 16\n",
      "webtoon img\\독립일기\\20220203154235_037a3e60ac006660a88f7e3b5b9bb37f_IMAG01_15.jpg (9427) bytes\n",
      "------> 다운로드 번호 17\n",
      "webtoon img\\독립일기\\thumbnail_202x120_0d81306a-5cc2-40cc-95b7-26960d56af21.jpg (26367) bytes\n",
      "------> 다운로드 번호 18\n",
      "webtoon img\\독립일기\\thumbnail_202x120_cbfb744e-0b54-4fa4-ba7e-3830db7a790b.jpg (19248) bytes\n",
      "------> 다운로드 번호 19\n",
      "webtoon img\\독립일기\\thumbnail_202x120_4275b470-11c0-482c-a27e-e2aff3b76c17.jpg (15443) bytes\n",
      "------> 다운로드 번호 20\n",
      "webtoon img\\독립일기\\thumbnail_202x120_e7b663f0-e264-4638-9bd0-0913e6340358.jpg (20253) bytes\n",
      "------> 다운로드 번호 21\n",
      "webtoon img\\독립일기\\thumbnail_202x120_37590c37-b91c-436a-8f52-50f1724996aa.jpg (17250) bytes\n",
      "------> 다운로드 번호 22\n",
      "webtoon img\\독립일기\\thumbnail_IMAG06_39a566d2-1366-419b-80c3-1c9be1e566a1.jpg (17673) bytes\n",
      "------> 다운로드 번호 23\n",
      "webtoon img\\독립일기\\thumbnail_IMAG06_4e193082-d0e5-4422-8cab-73296b4f980c.jpg (20672) bytes\n",
      "webtoon img\\독립일기\n",
      "14 <class 'bs4.element.ResultSet'>\n",
      "------> 다운로드 번호 1\n",
      "webtoon img\\독립일기\\thumbnail_IMAG04_2b479f04-a16b-4fa2-9a05-bc60cd84022c.jpg (15357) bytes\n",
      "------> 다운로드 번호 2\n",
      "webtoon img\\독립일기\\age_all_white.jpg (11525) bytes\n",
      "------> 다운로드 번호 3\n",
      "webtoon img\\독립일기\\20200614172858_e5261bd185c751f775225acc4a0d595e_IMAG01_1.jpg (140018) bytes\n",
      "------> 다운로드 번호 4\n",
      "webtoon img\\독립일기\\20200614172858_e5261bd185c751f775225acc4a0d595e_IMAG01_2.jpg (136424) bytes\n",
      "------> 다운로드 번호 5\n",
      "webtoon img\\독립일기\\20200614172858_e5261bd185c751f775225acc4a0d595e_IMAG01_3.jpg (148433) bytes\n",
      "------> 다운로드 번호 6\n",
      "webtoon img\\독립일기\\20200614172858_e5261bd185c751f775225acc4a0d595e_IMAG01_4.jpg (133994) bytes\n",
      "------> 다운로드 번호 7\n",
      "webtoon img\\독립일기\\20200614172858_e5261bd185c751f775225acc4a0d595e_IMAG01_5.jpg (165246) bytes\n",
      "------> 다운로드 번호 8\n",
      "webtoon img\\독립일기\\20200614172858_e5261bd185c751f775225acc4a0d595e_IMAG01_6.jpg (8707) bytes\n",
      "------> 다운로드 번호 9\n",
      "webtoon img\\독립일기\\thumbnail_202x120_2d243b6c-4e3e-4eac-9d87-fecfbe41f013.jpg (14980) bytes\n",
      "------> 다운로드 번호 10\n",
      "webtoon img\\독립일기\\thumbnail_202x120_65d42d60-9772-41b3-9c49-6048e1e18c89.jpg (16698) bytes\n",
      "------> 다운로드 번호 11\n",
      "webtoon img\\독립일기\\thumbnail_202x120_91be9100-d432-426f-b37e-4285a781d4d3.jpg (12934) bytes\n",
      "------> 다운로드 번호 12\n",
      "webtoon img\\독립일기\\thumbnail_202x120_60fcc383-6b63-4ed1-93c1-5e171565732e.jpg (16631) bytes\n",
      "------> 다운로드 번호 13\n",
      "webtoon img\\독립일기\\thumbnail_IMAG06_39a566d2-1366-419b-80c3-1c9be1e566a1.jpg (17673) bytes\n",
      "------> 다운로드 번호 14\n",
      "webtoon img\\독립일기\\thumbnail_IMAG06_4e193082-d0e5-4422-8cab-73296b4f980c.jpg (20672) bytes\n"
     ]
    }
   ],
   "source": [
    "download_image('독립일기','https://comic.naver.com/webtoon/detail?titleId=748105&no=148&weekday=thu')\n",
    "download_image('독립일기','https://comic.naver.com/webtoon/detail?titleId=748105&no=1&weekday=thu')"
   ]
  },
  {
   "cell_type": "code",
   "execution_count": null,
   "metadata": {},
   "outputs": [],
   "source": []
  }
 ],
 "metadata": {
  "interpreter": {
   "hash": "b4d6975e63639c3aa81a2dc73f143652a4160989bc4b8183e6854b604fb91be5"
  },
  "kernelspec": {
   "display_name": "Python 3.9.7 ('base')",
   "language": "python",
   "name": "python3"
  },
  "language_info": {
   "codemirror_mode": {
    "name": "ipython",
    "version": 3
   },
   "file_extension": ".py",
   "mimetype": "text/x-python",
   "name": "python",
   "nbconvert_exporter": "python",
   "pygments_lexer": "ipython3",
   "version": "3.9.7"
  },
  "orig_nbformat": 4
 },
 "nbformat": 4,
 "nbformat_minor": 2
}
