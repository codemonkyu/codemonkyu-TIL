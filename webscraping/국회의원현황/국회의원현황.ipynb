{
 "cells": [
  {
   "cell_type": "markdown",
   "metadata": {},
   "source": [
    "## 국회의원 현황정보 수집/분석/시각화/저장\n",
    "* 이름과 ID 추출\n",
    "* 상세페이지 정보 추출 (json으로 저장)\n",
    "* 상세정보들을 DataFrame으로 변환\n",
    "* 시각화(막대그래프,히스토그램, 파이챠트, 히트맵)\n",
    "* 테이블로 저장"
   ]
  },
  {
   "cell_type": "code",
   "execution_count": 2,
   "metadata": {},
   "outputs": [],
   "source": [
    "import requests\n",
    "from bs4 import BeautifulSoup\n",
    "import re\n"
   ]
  },
  {
   "cell_type": "code",
   "execution_count": 3,
   "metadata": {},
   "outputs": [
    {
     "name": "stdout",
     "output_type": "stream",
     "text": [
      "200\n",
      "295\n",
      "['9771230', '9771142', '9771174']\n"
     ]
    }
   ],
   "source": [
    "url = 'https://www.assembly.go.kr/assm/memact/congressman/memCond/memCondListAjax.do'\n",
    "\n",
    "req_param_dict={\n",
    "    'currentPage' : 1,\n",
    "    'rowPerPage' : 300\n",
    "}\n",
    "\n",
    "res = requests.get(url, params=req_param_dict)\n",
    "\n",
    "print(res.status_code)\n",
    "\n",
    "if res.ok:\n",
    "    soup=BeautifulSoup(res.text, 'html.parser')\n",
    "    atag_list = soup.select('div.memberna_list dl dt a')\n",
    "    #print(len(atag_list))\n",
    "    \n",
    "    member_id_list = []\n",
    "    for atag in atag_list:\n",
    "        href = atag['href']\n",
    "        matched = re.search(r'(\\d+)', href)        \n",
    "        if matched:\n",
    "            member_id = matched.group(0)\n",
    "        member_id_list.append(member_id)\n",
    "    print(len(member_id_list))        \n",
    "    print(member_id_list[:3])"
   ]
  },
  {
   "cell_type": "code",
   "execution_count": 4,
   "metadata": {},
   "outputs": [
    {
     "name": "stdout",
     "output_type": "stream",
     "text": [
      "===> 스크래핑 시작\n",
      "1 https://www.assembly.go.kr/assm/memPop/memPopup.do?dept_cd=9771230\n",
      "2 https://www.assembly.go.kr/assm/memPop/memPopup.do?dept_cd=9771142\n",
      "3 https://www.assembly.go.kr/assm/memPop/memPopup.do?dept_cd=9771174\n",
      "4 https://www.assembly.go.kr/assm/memPop/memPopup.do?dept_cd=9771233\n",
      "5 https://www.assembly.go.kr/assm/memPop/memPopup.do?dept_cd=9771283\n",
      "6 https://www.assembly.go.kr/assm/memPop/memPopup.do?dept_cd=9770933\n",
      "7 https://www.assembly.go.kr/assm/memPop/memPopup.do?dept_cd=9771116\n",
      "8 https://www.assembly.go.kr/assm/memPop/memPopup.do?dept_cd=9771276\n",
      "9 https://www.assembly.go.kr/assm/memPop/memPopup.do?dept_cd=9771168\n",
      "10 https://www.assembly.go.kr/assm/memPop/memPopup.do?dept_cd=9771007\n",
      "11 https://www.assembly.go.kr/assm/memPop/memPopup.do?dept_cd=9771109\n",
      "12 https://www.assembly.go.kr/assm/memPop/memPopup.do?dept_cd=9771180\n",
      "13 https://www.assembly.go.kr/assm/memPop/memPopup.do?dept_cd=9770931\n",
      "14 https://www.assembly.go.kr/assm/memPop/memPopup.do?dept_cd=9771224\n",
      "15 https://www.assembly.go.kr/assm/memPop/memPopup.do?dept_cd=9771165\n",
      "16 https://www.assembly.go.kr/assm/memPop/memPopup.do?dept_cd=9770679\n",
      "17 https://www.assembly.go.kr/assm/memPop/memPopup.do?dept_cd=9771108\n",
      "18 https://www.assembly.go.kr/assm/memPop/memPopup.do?dept_cd=9770977\n",
      "19 https://www.assembly.go.kr/assm/memPop/memPopup.do?dept_cd=9771259\n",
      "20 https://www.assembly.go.kr/assm/memPop/memPopup.do?dept_cd=9770998\n",
      "21 https://www.assembly.go.kr/assm/memPop/memPopup.do?dept_cd=9770927\n",
      "22 https://www.assembly.go.kr/assm/memPop/memPopup.do?dept_cd=9771258\n",
      "23 https://www.assembly.go.kr/assm/memPop/memPopup.do?dept_cd=9770712\n",
      "24 https://www.assembly.go.kr/assm/memPop/memPopup.do?dept_cd=9771152\n",
      "25 https://www.assembly.go.kr/assm/memPop/memPopup.do?dept_cd=9771164\n",
      "26 https://www.assembly.go.kr/assm/memPop/memPopup.do?dept_cd=9771181\n",
      "27 https://www.assembly.go.kr/assm/memPop/memPopup.do?dept_cd=9770719\n",
      "28 https://www.assembly.go.kr/assm/memPop/memPopup.do?dept_cd=9770997\n",
      "29 https://www.assembly.go.kr/assm/memPop/memPopup.do?dept_cd=9771136\n",
      "30 https://www.assembly.go.kr/assm/memPop/memPopup.do?dept_cd=9770723\n",
      "31 https://www.assembly.go.kr/assm/memPop/memPopup.do?dept_cd=9771120\n",
      "32 https://www.assembly.go.kr/assm/memPop/memPopup.do?dept_cd=9771173\n",
      "33 https://www.assembly.go.kr/assm/memPop/memPopup.do?dept_cd=9770941\n",
      "34 https://www.assembly.go.kr/assm/memPop/memPopup.do?dept_cd=9770984\n",
      "35 https://www.assembly.go.kr/assm/memPop/memPopup.do?dept_cd=9771285\n",
      "36 https://www.assembly.go.kr/assm/memPop/memPopup.do?dept_cd=9771268\n",
      "37 https://www.assembly.go.kr/assm/memPop/memPopup.do?dept_cd=9770725\n",
      "38 https://www.assembly.go.kr/assm/memPop/memPopup.do?dept_cd=9770527\n",
      "39 https://www.assembly.go.kr/assm/memPop/memPopup.do?dept_cd=9771024\n",
      "40 https://www.assembly.go.kr/assm/memPop/memPopup.do?dept_cd=9771195\n",
      "41 https://www.assembly.go.kr/assm/memPop/memPopup.do?dept_cd=9770985\n",
      "42 https://www.assembly.go.kr/assm/memPop/memPopup.do?dept_cd=9771208\n",
      "43 https://www.assembly.go.kr/assm/memPop/memPopup.do?dept_cd=9771089\n",
      "44 https://www.assembly.go.kr/assm/memPop/memPopup.do?dept_cd=9771210\n",
      "45 https://www.assembly.go.kr/assm/memPop/memPopup.do?dept_cd=9771220\n",
      "46 https://www.assembly.go.kr/assm/memPop/memPopup.do?dept_cd=9771144\n",
      "47 https://www.assembly.go.kr/assm/memPop/memPopup.do?dept_cd=9771169\n",
      "48 https://www.assembly.go.kr/assm/memPop/memPopup.do?dept_cd=9771111\n",
      "49 https://www.assembly.go.kr/assm/memPop/memPopup.do?dept_cd=9771225\n",
      "50 https://www.assembly.go.kr/assm/memPop/memPopup.do?dept_cd=9770975\n",
      "51 https://www.assembly.go.kr/assm/memPop/memPopup.do?dept_cd=9770981\n",
      "52 https://www.assembly.go.kr/assm/memPop/memPopup.do?dept_cd=9770934\n",
      "53 https://www.assembly.go.kr/assm/memPop/memPopup.do?dept_cd=9771249\n",
      "54 https://www.assembly.go.kr/assm/memPop/memPopup.do?dept_cd=9771186\n",
      "55 https://www.assembly.go.kr/assm/memPop/memPopup.do?dept_cd=9771147\n",
      "56 https://www.assembly.go.kr/assm/memPop/memPopup.do?dept_cd=9771127\n",
      "57 https://www.assembly.go.kr/assm/memPop/memPopup.do?dept_cd=9771214\n",
      "58 https://www.assembly.go.kr/assm/memPop/memPopup.do?dept_cd=9771206\n",
      "59 https://www.assembly.go.kr/assm/memPop/memPopup.do?dept_cd=9771171\n",
      "60 https://www.assembly.go.kr/assm/memPop/memPopup.do?dept_cd=9771288\n",
      "61 https://www.assembly.go.kr/assm/memPop/memPopup.do?dept_cd=9771023\n",
      "62 https://www.assembly.go.kr/assm/memPop/memPopup.do?dept_cd=9771090\n",
      "63 https://www.assembly.go.kr/assm/memPop/memPopup.do?dept_cd=9771009\n",
      "64 https://www.assembly.go.kr/assm/memPop/memPopup.do?dept_cd=9771192\n",
      "65 https://www.assembly.go.kr/assm/memPop/memPopup.do?dept_cd=9770982\n",
      "66 https://www.assembly.go.kr/assm/memPop/memPopup.do?dept_cd=9770986\n",
      "67 https://www.assembly.go.kr/assm/memPop/memPopup.do?dept_cd=9770741\n",
      "68 https://www.assembly.go.kr/assm/memPop/memPopup.do?dept_cd=9771237\n",
      "69 https://www.assembly.go.kr/assm/memPop/memPopup.do?dept_cd=9770742\n",
      "70 https://www.assembly.go.kr/assm/memPop/memPopup.do?dept_cd=9770991\n",
      "71 https://www.assembly.go.kr/assm/memPop/memPopup.do?dept_cd=9771223\n",
      "72 https://www.assembly.go.kr/assm/memPop/memPopup.do?dept_cd=9771270\n",
      "73 https://www.assembly.go.kr/assm/memPop/memPopup.do?dept_cd=9771216\n",
      "74 https://www.assembly.go.kr/assm/memPop/memPopup.do?dept_cd=9771134\n",
      "75 https://www.assembly.go.kr/assm/memPop/memPopup.do?dept_cd=9771228\n",
      "76 https://www.assembly.go.kr/assm/memPop/memPopup.do?dept_cd=9770752\n",
      "77 https://www.assembly.go.kr/assm/memPop/memPopup.do?dept_cd=9770753\n",
      "78 https://www.assembly.go.kr/assm/memPop/memPopup.do?dept_cd=9770755\n",
      "79 https://www.assembly.go.kr/assm/memPop/memPopup.do?dept_cd=9771141\n",
      "80 https://www.assembly.go.kr/assm/memPop/memPopup.do?dept_cd=9771274\n",
      "81 https://www.assembly.go.kr/assm/memPop/memPopup.do?dept_cd=9771091\n",
      "82 https://www.assembly.go.kr/assm/memPop/memPopup.do?dept_cd=9771187\n",
      "83 https://www.assembly.go.kr/assm/memPop/memPopup.do?dept_cd=9771204\n",
      "84 https://www.assembly.go.kr/assm/memPop/memPopup.do?dept_cd=9771175\n",
      "85 https://www.assembly.go.kr/assm/memPop/memPopup.do?dept_cd=9771159\n",
      "86 https://www.assembly.go.kr/assm/memPop/memPopup.do?dept_cd=9770764\n",
      "87 https://www.assembly.go.kr/assm/memPop/memPopup.do?dept_cd=9770911\n",
      "88 https://www.assembly.go.kr/assm/memPop/memPopup.do?dept_cd=9771248\n",
      "89 https://www.assembly.go.kr/assm/memPop/memPopup.do?dept_cd=9770767\n",
      "90 https://www.assembly.go.kr/assm/memPop/memPopup.do?dept_cd=9770768\n",
      "91 https://www.assembly.go.kr/assm/memPop/memPopup.do?dept_cd=9770770\n",
      "92 https://www.assembly.go.kr/assm/memPop/memPopup.do?dept_cd=9770090\n",
      "93 https://www.assembly.go.kr/assm/memPop/memPopup.do?dept_cd=9771193\n",
      "94 https://www.assembly.go.kr/assm/memPop/memPopup.do?dept_cd=9771163\n",
      "95 https://www.assembly.go.kr/assm/memPop/memPopup.do?dept_cd=9771107\n",
      "96 https://www.assembly.go.kr/assm/memPop/memPopup.do?dept_cd=9770944\n",
      "97 https://www.assembly.go.kr/assm/memPop/memPopup.do?dept_cd=9771135\n",
      "98 https://www.assembly.go.kr/assm/memPop/memPopup.do?dept_cd=9771162\n",
      "99 https://www.assembly.go.kr/assm/memPop/memPopup.do?dept_cd=9771030\n",
      "100 https://www.assembly.go.kr/assm/memPop/memPopup.do?dept_cd=9770774\n",
      "101 https://www.assembly.go.kr/assm/memPop/memPopup.do?dept_cd=9770929\n",
      "102 https://www.assembly.go.kr/assm/memPop/memPopup.do?dept_cd=9770950\n",
      "103 https://www.assembly.go.kr/assm/memPop/memPopup.do?dept_cd=9770995\n",
      "104 https://www.assembly.go.kr/assm/memPop/memPopup.do?dept_cd=9770932\n",
      "105 https://www.assembly.go.kr/assm/memPop/memPopup.do?dept_cd=9771125\n",
      "106 https://www.assembly.go.kr/assm/memPop/memPopup.do?dept_cd=9770963\n",
      "107 https://www.assembly.go.kr/assm/memPop/memPopup.do?dept_cd=9771226\n",
      "108 https://www.assembly.go.kr/assm/memPop/memPopup.do?dept_cd=9770779\n",
      "109 https://www.assembly.go.kr/assm/memPop/memPopup.do?dept_cd=9771148\n",
      "110 https://www.assembly.go.kr/assm/memPop/memPopup.do?dept_cd=9771277\n",
      "111 https://www.assembly.go.kr/assm/memPop/memPopup.do?dept_cd=9771128\n",
      "112 https://www.assembly.go.kr/assm/memPop/memPopup.do?dept_cd=9771137\n",
      "113 https://www.assembly.go.kr/assm/memPop/memPopup.do?dept_cd=9770980\n",
      "114 https://www.assembly.go.kr/assm/memPop/memPopup.do?dept_cd=9770356\n",
      "115 https://www.assembly.go.kr/assm/memPop/memPopup.do?dept_cd=9771218\n",
      "116 https://www.assembly.go.kr/assm/memPop/memPopup.do?dept_cd=9771166\n",
      "117 https://www.assembly.go.kr/assm/memPop/memPopup.do?dept_cd=9771133\n",
      "118 https://www.assembly.go.kr/assm/memPop/memPopup.do?dept_cd=9771092\n",
      "119 https://www.assembly.go.kr/assm/memPop/memPopup.do?dept_cd=9770784\n",
      "120 https://www.assembly.go.kr/assm/memPop/memPopup.do?dept_cd=9771176\n",
      "121 https://www.assembly.go.kr/assm/memPop/memPopup.do?dept_cd=9771236\n",
      "122 https://www.assembly.go.kr/assm/memPop/memPopup.do?dept_cd=9771254\n",
      "123 https://www.assembly.go.kr/assm/memPop/memPopup.do?dept_cd=9770786\n",
      "124 https://www.assembly.go.kr/assm/memPop/memPopup.do?dept_cd=9771008\n",
      "125 https://www.assembly.go.kr/assm/memPop/memPopup.do?dept_cd=9771217\n",
      "126 https://www.assembly.go.kr/assm/memPop/memPopup.do?dept_cd=9770999\n",
      "127 https://www.assembly.go.kr/assm/memPop/memPopup.do?dept_cd=9771093\n",
      "128 https://www.assembly.go.kr/assm/memPop/memPopup.do?dept_cd=9771001\n",
      "129 https://www.assembly.go.kr/assm/memPop/memPopup.do?dept_cd=9770996\n",
      "130 https://www.assembly.go.kr/assm/memPop/memPopup.do?dept_cd=9771094\n",
      "131 https://www.assembly.go.kr/assm/memPop/memPopup.do?dept_cd=9770967\n",
      "132 https://www.assembly.go.kr/assm/memPop/memPopup.do?dept_cd=9771058\n",
      "133 https://www.assembly.go.kr/assm/memPop/memPopup.do?dept_cd=9771238\n",
      "134 https://www.assembly.go.kr/assm/memPop/memPopup.do?dept_cd=9770968\n",
      "135 https://www.assembly.go.kr/assm/memPop/memPopup.do?dept_cd=9771209\n",
      "136 https://www.assembly.go.kr/assm/memPop/memPopup.do?dept_cd=9771246\n",
      "137 https://www.assembly.go.kr/assm/memPop/memPopup.do?dept_cd=9771219\n",
      "138 https://www.assembly.go.kr/assm/memPop/memPopup.do?dept_cd=9771257\n",
      "139 https://www.assembly.go.kr/assm/memPop/memPopup.do?dept_cd=9770869\n",
      "140 https://www.assembly.go.kr/assm/memPop/memPopup.do?dept_cd=9770587\n",
      "141 https://www.assembly.go.kr/assm/memPop/memPopup.do?dept_cd=9770372\n",
      "142 https://www.assembly.go.kr/assm/memPop/memPopup.do?dept_cd=9771132\n",
      "143 https://www.assembly.go.kr/assm/memPop/memPopup.do?dept_cd=9771017\n",
      "144 https://www.assembly.go.kr/assm/memPop/memPopup.do?dept_cd=9771273\n",
      "145 https://www.assembly.go.kr/assm/memPop/memPopup.do?dept_cd=9771143\n",
      "146 https://www.assembly.go.kr/assm/memPop/memPopup.do?dept_cd=9771178\n",
      "147 https://www.assembly.go.kr/assm/memPop/memPopup.do?dept_cd=9771287\n",
      "148 https://www.assembly.go.kr/assm/memPop/memPopup.do?dept_cd=9771271\n",
      "149 https://www.assembly.go.kr/assm/memPop/memPopup.do?dept_cd=9771155\n",
      "150 https://www.assembly.go.kr/assm/memPop/memPopup.do?dept_cd=9771010\n",
      "151 https://www.assembly.go.kr/assm/memPop/memPopup.do?dept_cd=9771202\n",
      "152 https://www.assembly.go.kr/assm/memPop/memPopup.do?dept_cd=9771113\n",
      "153 https://www.assembly.go.kr/assm/memPop/memPopup.do?dept_cd=9771172\n",
      "154 https://www.assembly.go.kr/assm/memPop/memPopup.do?dept_cd=9771037\n",
      "155 https://www.assembly.go.kr/assm/memPop/memPopup.do?dept_cd=9771261\n",
      "156 https://www.assembly.go.kr/assm/memPop/memPopup.do?dept_cd=9770871\n",
      "157 https://www.assembly.go.kr/assm/memPop/memPopup.do?dept_cd=9770872\n",
      "158 https://www.assembly.go.kr/assm/memPop/memPopup.do?dept_cd=9771038\n",
      "159 https://www.assembly.go.kr/assm/memPop/memPopup.do?dept_cd=9771126\n",
      "160 https://www.assembly.go.kr/assm/memPop/memPopup.do?dept_cd=9771121\n",
      "161 https://www.assembly.go.kr/assm/memPop/memPopup.do?dept_cd=9770966\n",
      "162 https://www.assembly.go.kr/assm/memPop/memPopup.do?dept_cd=9771199\n",
      "163 https://www.assembly.go.kr/assm/memPop/memPopup.do?dept_cd=9770912\n",
      "164 https://www.assembly.go.kr/assm/memPop/memPopup.do?dept_cd=9771266\n",
      "165 https://www.assembly.go.kr/assm/memPop/memPopup.do?dept_cd=9771118\n",
      "166 https://www.assembly.go.kr/assm/memPop/memPopup.do?dept_cd=9770808\n",
      "167 https://www.assembly.go.kr/assm/memPop/memPopup.do?dept_cd=9771227\n",
      "168 https://www.assembly.go.kr/assm/memPop/memPopup.do?dept_cd=9771263\n",
      "169 https://www.assembly.go.kr/assm/memPop/memPopup.do?dept_cd=9770598\n",
      "170 https://www.assembly.go.kr/assm/memPop/memPopup.do?dept_cd=9771153\n",
      "171 https://www.assembly.go.kr/assm/memPop/memPopup.do?dept_cd=9770811\n",
      "172 https://www.assembly.go.kr/assm/memPop/memPopup.do?dept_cd=9771170\n",
      "173 https://www.assembly.go.kr/assm/memPop/memPopup.do?dept_cd=9771221\n",
      "174 https://www.assembly.go.kr/assm/memPop/memPopup.do?dept_cd=9770812\n",
      "175 https://www.assembly.go.kr/assm/memPop/memPopup.do?dept_cd=9771239\n",
      "176 https://www.assembly.go.kr/assm/memPop/memPopup.do?dept_cd=9771212\n",
      "177 https://www.assembly.go.kr/assm/memPop/memPopup.do?dept_cd=9771240\n",
      "178 https://www.assembly.go.kr/assm/memPop/memPopup.do?dept_cd=9771032\n",
      "179 https://www.assembly.go.kr/assm/memPop/memPopup.do?dept_cd=9770876\n",
      "180 https://www.assembly.go.kr/assm/memPop/memPopup.do?dept_cd=9770813\n",
      "181 https://www.assembly.go.kr/assm/memPop/memPopup.do?dept_cd=9770905\n",
      "182 https://www.assembly.go.kr/assm/memPop/memPopup.do?dept_cd=9771198\n",
      "183 https://www.assembly.go.kr/assm/memPop/memPopup.do?dept_cd=9771232\n",
      "184 https://www.assembly.go.kr/assm/memPop/memPopup.do?dept_cd=9771260\n",
      "185 https://www.assembly.go.kr/assm/memPop/memPopup.do?dept_cd=9771028\n",
      "186 https://www.assembly.go.kr/assm/memPop/memPopup.do?dept_cd=9770602\n",
      "187 https://www.assembly.go.kr/assm/memPop/memPopup.do?dept_cd=9771154\n",
      "188 https://www.assembly.go.kr/assm/memPop/memPopup.do?dept_cd=9770414\n",
      "189 https://www.assembly.go.kr/assm/memPop/memPopup.do?dept_cd=9771207\n",
      "190 https://www.assembly.go.kr/assm/memPop/memPopup.do?dept_cd=9771098\n",
      "191 https://www.assembly.go.kr/assm/memPop/memPopup.do?dept_cd=9771151\n",
      "192 https://www.assembly.go.kr/assm/memPop/memPopup.do?dept_cd=9771185\n",
      "193 https://www.assembly.go.kr/assm/memPop/memPopup.do?dept_cd=9771284\n",
      "194 https://www.assembly.go.kr/assm/memPop/memPopup.do?dept_cd=9771269\n",
      "195 https://www.assembly.go.kr/assm/memPop/memPopup.do?dept_cd=9771003\n",
      "196 https://www.assembly.go.kr/assm/memPop/memPopup.do?dept_cd=9771251\n",
      "197 https://www.assembly.go.kr/assm/memPop/memPopup.do?dept_cd=9771255\n",
      "198 https://www.assembly.go.kr/assm/memPop/memPopup.do?dept_cd=9771158\n",
      "199 https://www.assembly.go.kr/assm/memPop/memPopup.do?dept_cd=9771115\n",
      "200 https://www.assembly.go.kr/assm/memPop/memPopup.do?dept_cd=9771184\n",
      "201 https://www.assembly.go.kr/assm/memPop/memPopup.do?dept_cd=9771015\n",
      "202 https://www.assembly.go.kr/assm/memPop/memPopup.do?dept_cd=9770826\n",
      "203 https://www.assembly.go.kr/assm/memPop/memPopup.do?dept_cd=9771213\n",
      "204 https://www.assembly.go.kr/assm/memPop/memPopup.do?dept_cd=9771278\n",
      "205 https://www.assembly.go.kr/assm/memPop/memPopup.do?dept_cd=9770878\n",
      "206 https://www.assembly.go.kr/assm/memPop/memPopup.do?dept_cd=9771201\n",
      "207 https://www.assembly.go.kr/assm/memPop/memPopup.do?dept_cd=9771060\n",
      "208 https://www.assembly.go.kr/assm/memPop/memPopup.do?dept_cd=9771205\n",
      "209 https://www.assembly.go.kr/assm/memPop/memPopup.do?dept_cd=9770914\n",
      "210 https://www.assembly.go.kr/assm/memPop/memPopup.do?dept_cd=9771242\n",
      "211 https://www.assembly.go.kr/assm/memPop/memPopup.do?dept_cd=9771138\n",
      "212 https://www.assembly.go.kr/assm/memPop/memPopup.do?dept_cd=9770835\n",
      "213 https://www.assembly.go.kr/assm/memPop/memPopup.do?dept_cd=9771002\n",
      "214 https://www.assembly.go.kr/assm/memPop/memPopup.do?dept_cd=9771190\n",
      "215 https://www.assembly.go.kr/assm/memPop/memPopup.do?dept_cd=9771280\n",
      "216 https://www.assembly.go.kr/assm/memPop/memPopup.do?dept_cd=9770836\n",
      "217 https://www.assembly.go.kr/assm/memPop/memPopup.do?dept_cd=9771129\n",
      "218 https://www.assembly.go.kr/assm/memPop/memPopup.do?dept_cd=9770837\n",
      "219 https://www.assembly.go.kr/assm/memPop/memPopup.do?dept_cd=9771157\n",
      "220 https://www.assembly.go.kr/assm/memPop/memPopup.do?dept_cd=9770839\n",
      "221 https://www.assembly.go.kr/assm/memPop/memPopup.do?dept_cd=9771177\n",
      "222 https://www.assembly.go.kr/assm/memPop/memPopup.do?dept_cd=9771041\n",
      "223 https://www.assembly.go.kr/assm/memPop/memPopup.do?dept_cd=9771000\n",
      "224 https://www.assembly.go.kr/assm/memPop/memPopup.do?dept_cd=9771203\n",
      "225 https://www.assembly.go.kr/assm/memPop/memPopup.do?dept_cd=9771110\n",
      "226 https://www.assembly.go.kr/assm/memPop/memPopup.do?dept_cd=9770954\n",
      "227 https://www.assembly.go.kr/assm/memPop/memPopup.do?dept_cd=9771160\n",
      "228 https://www.assembly.go.kr/assm/memPop/memPopup.do?dept_cd=9771275\n",
      "229 https://www.assembly.go.kr/assm/memPop/memPopup.do?dept_cd=9771139\n",
      "230 https://www.assembly.go.kr/assm/memPop/memPopup.do?dept_cd=9771272\n",
      "231 https://www.assembly.go.kr/assm/memPop/memPopup.do?dept_cd=9770951\n",
      "232 https://www.assembly.go.kr/assm/memPop/memPopup.do?dept_cd=9771253\n",
      "233 https://www.assembly.go.kr/assm/memPop/memPopup.do?dept_cd=9770846\n",
      "234 https://www.assembly.go.kr/assm/memPop/memPopup.do?dept_cd=9770926\n",
      "235 https://www.assembly.go.kr/assm/memPop/memPopup.do?dept_cd=9771245\n",
      "236 https://www.assembly.go.kr/assm/memPop/memPopup.do?dept_cd=9771140\n",
      "237 https://www.assembly.go.kr/assm/memPop/memPopup.do?dept_cd=9770881\n",
      "238 https://www.assembly.go.kr/assm/memPop/memPopup.do?dept_cd=9771012\n",
      "239 https://www.assembly.go.kr/assm/memPop/memPopup.do?dept_cd=9771150\n",
      "240 https://www.assembly.go.kr/assm/memPop/memPopup.do?dept_cd=9771103\n",
      "241 https://www.assembly.go.kr/assm/memPop/memPopup.do?dept_cd=9771006\n",
      "242 https://www.assembly.go.kr/assm/memPop/memPopup.do?dept_cd=9771189\n",
      "243 https://www.assembly.go.kr/assm/memPop/memPopup.do?dept_cd=9771114\n",
      "244 https://www.assembly.go.kr/assm/memPop/memPopup.do?dept_cd=9771068\n",
      "245 https://www.assembly.go.kr/assm/memPop/memPopup.do?dept_cd=9771122\n",
      "246 https://www.assembly.go.kr/assm/memPop/memPopup.do?dept_cd=9771264\n",
      "247 https://www.assembly.go.kr/assm/memPop/memPopup.do?dept_cd=9771229\n",
      "248 https://www.assembly.go.kr/assm/memPop/memPopup.do?dept_cd=9770450\n",
      "249 https://www.assembly.go.kr/assm/memPop/memPopup.do?dept_cd=9771247\n",
      "250 https://www.assembly.go.kr/assm/memPop/memPopup.do?dept_cd=9771243\n",
      "251 https://www.assembly.go.kr/assm/memPop/memPopup.do?dept_cd=9770973\n",
      "252 https://www.assembly.go.kr/assm/memPop/memPopup.do?dept_cd=9771156\n",
      "253 https://www.assembly.go.kr/assm/memPop/memPopup.do?dept_cd=9770990\n",
      "254 https://www.assembly.go.kr/assm/memPop/memPopup.do?dept_cd=9770456\n",
      "255 https://www.assembly.go.kr/assm/memPop/memPopup.do?dept_cd=9771262\n",
      "256 https://www.assembly.go.kr/assm/memPop/memPopup.do?dept_cd=9771244\n",
      "257 https://www.assembly.go.kr/assm/memPop/memPopup.do?dept_cd=9771235\n",
      "258 https://www.assembly.go.kr/assm/memPop/memPopup.do?dept_cd=9771215\n",
      "259 https://www.assembly.go.kr/assm/memPop/memPopup.do?dept_cd=9770883\n",
      "260 https://www.assembly.go.kr/assm/memPop/memPopup.do?dept_cd=9771250\n",
      "261 https://www.assembly.go.kr/assm/memPop/memPopup.do?dept_cd=9770852\n",
      "262 https://www.assembly.go.kr/assm/memPop/memPopup.do?dept_cd=9771117\n",
      "263 https://www.assembly.go.kr/assm/memPop/memPopup.do?dept_cd=9771112\n",
      "264 https://www.assembly.go.kr/assm/memPop/memPopup.do?dept_cd=9771282\n",
      "265 https://www.assembly.go.kr/assm/memPop/memPopup.do?dept_cd=9771119\n",
      "266 https://www.assembly.go.kr/assm/memPop/memPopup.do?dept_cd=9771252\n",
      "267 https://www.assembly.go.kr/assm/memPop/memPopup.do?dept_cd=9771279\n",
      "268 https://www.assembly.go.kr/assm/memPop/memPopup.do?dept_cd=9770952\n",
      "269 https://www.assembly.go.kr/assm/memPop/memPopup.do?dept_cd=9771188\n",
      "270 https://www.assembly.go.kr/assm/memPop/memPopup.do?dept_cd=9771194\n",
      "271 https://www.assembly.go.kr/assm/memPop/memPopup.do?dept_cd=9771231\n",
      "272 https://www.assembly.go.kr/assm/memPop/memPopup.do?dept_cd=9771267\n",
      "273 https://www.assembly.go.kr/assm/memPop/memPopup.do?dept_cd=9770962\n",
      "274 https://www.assembly.go.kr/assm/memPop/memPopup.do?dept_cd=9771286\n",
      "275 https://www.assembly.go.kr/assm/memPop/memPopup.do?dept_cd=9771234\n",
      "276 https://www.assembly.go.kr/assm/memPop/memPopup.do?dept_cd=9770858\n",
      "277 https://www.assembly.go.kr/assm/memPop/memPopup.do?dept_cd=9771197\n",
      "278 https://www.assembly.go.kr/assm/memPop/memPopup.do?dept_cd=9771241\n",
      "279 https://www.assembly.go.kr/assm/memPop/memPopup.do?dept_cd=9771211\n",
      "280 https://www.assembly.go.kr/assm/memPop/memPopup.do?dept_cd=9770859\n",
      "281 https://www.assembly.go.kr/assm/memPop/memPopup.do?dept_cd=9771182\n",
      "282 https://www.assembly.go.kr/assm/memPop/memPopup.do?dept_cd=9771196\n",
      "283 https://www.assembly.go.kr/assm/memPop/memPopup.do?dept_cd=9771256\n",
      "284 https://www.assembly.go.kr/assm/memPop/memPopup.do?dept_cd=9771149\n",
      "285 https://www.assembly.go.kr/assm/memPop/memPopup.do?dept_cd=9771179\n",
      "286 https://www.assembly.go.kr/assm/memPop/memPopup.do?dept_cd=9770886\n",
      "287 https://www.assembly.go.kr/assm/memPop/memPopup.do?dept_cd=9771146\n",
      "288 https://www.assembly.go.kr/assm/memPop/memPopup.do?dept_cd=9771167\n",
      "289 https://www.assembly.go.kr/assm/memPop/memPopup.do?dept_cd=9770676\n",
      "290 https://www.assembly.go.kr/assm/memPop/memPopup.do?dept_cd=9770864\n",
      "291 https://www.assembly.go.kr/assm/memPop/memPopup.do?dept_cd=9771183\n",
      "292 https://www.assembly.go.kr/assm/memPop/memPopup.do?dept_cd=9771145\n",
      "293 https://www.assembly.go.kr/assm/memPop/memPopup.do?dept_cd=9771130\n",
      "294 https://www.assembly.go.kr/assm/memPop/memPopup.do?dept_cd=9771161\n",
      "295 https://www.assembly.go.kr/assm/memPop/memPopup.do?dept_cd=9770936\n",
      "295\n",
      "===> 스크래핑 끝\n"
     ]
    }
   ],
   "source": [
    "import requests\n",
    "from bs4 import BeautifulSoup\n",
    "import re\n",
    "from urllib.parse import urljoin\n",
    "\n",
    "print('===> 스크래핑 시작')\n",
    "member_detail_list = []\n",
    "for idx,mem_id in enumerate(member_id_list,1):\n",
    "    detail_url = f'https://www.assembly.go.kr/assm/memPop/memPopup.do?dept_cd={mem_id}'\n",
    "    print(idx, detail_url)\n",
    "    res = requests.get(detail_url)\n",
    "    if res.ok:\n",
    "        soup = BeautifulSoup(res.text, 'html.parser')\n",
    "        \n",
    "        #1명의 정보를 저장할 dict 선언\n",
    "        member_detail_dict = {}\n",
    "        \n",
    "        dt_list = [dt_tag.text for dt_tag in soup.select('dl.pro_detail dt')]\n",
    "        \n",
    "        dd_list = []        \n",
    "        for dd_tag in soup.select('dl.pro_detail dd'):\n",
    "            pattern = re.compile(f'[\\n\\r\\t]')\n",
    "            dd_text = pattern.sub('',dd_tag.text.strip()).replace(\" \",\"\")\n",
    "            dd_list.append(dd_text)\n",
    "        \n",
    "        member_detail_dict = dict(zip(dt_list, dd_list))\n",
    "        \n",
    "        for div_tag in soup.select('div.profile'):\n",
    "            member_detail_dict['이름']=div_tag.find('h4').text\n",
    "            \n",
    "            img_tag = div_tag.select('img')\n",
    "            if img_tag:\n",
    "                member_detail_dict['이미지'] = urljoin(detail_url, img_tag[0]['src'])\n",
    "            \n",
    "            member_detail_dict['생년월일'] = div_tag.select_one('li:nth-of-type(4)').text\n",
    "        \n",
    "        #1명의 정보가 저장된 dict를 list에 추가하기\n",
    "        member_detail_list.append(member_detail_dict)\n",
    "\n",
    "print(len(member_detail_list))        \n",
    "print('===> 스크래핑 끝')        "
   ]
  },
  {
   "cell_type": "code",
   "execution_count": 5,
   "metadata": {},
   "outputs": [],
   "source": [
    "import json\n",
    "\n",
    "with open('국회의원현황정보.json','w') as file:\n",
    "    json.dump(member_detail_list, file)"
   ]
  },
  {
   "cell_type": "code",
   "execution_count": 6,
   "metadata": {},
   "outputs": [
    {
     "name": "stdout",
     "output_type": "stream",
     "text": [
      "(295, 16)\n"
     ]
    }
   ],
   "source": [
    "import pandas as pd\n",
    "\n",
    "member_df = pd.read_json('국회의원현황정보.json')\n",
    "print(member_df.shape)"
   ]
  },
  {
   "cell_type": "code",
   "execution_count": 7,
   "metadata": {},
   "outputs": [
    {
     "data": {
      "text/html": [
       "<div>\n",
       "<style scoped>\n",
       "    .dataframe tbody tr th:only-of-type {\n",
       "        vertical-align: middle;\n",
       "    }\n",
       "\n",
       "    .dataframe tbody tr th {\n",
       "        vertical-align: top;\n",
       "    }\n",
       "\n",
       "    .dataframe thead th {\n",
       "        text-align: right;\n",
       "    }\n",
       "</style>\n",
       "<table border=\"1\" class=\"dataframe\">\n",
       "  <thead>\n",
       "    <tr style=\"text-align: right;\">\n",
       "      <th></th>\n",
       "      <th>정당</th>\n",
       "      <th>선거구</th>\n",
       "      <th>소속위원회</th>\n",
       "      <th>당선횟수</th>\n",
       "      <th>사무실 전화</th>\n",
       "      <th>사무실 호실</th>\n",
       "      <th>홈페이지</th>\n",
       "      <th>이메일</th>\n",
       "      <th>보좌관</th>\n",
       "      <th>비서관</th>\n",
       "      <th>비서</th>\n",
       "      <th>취미, 특기</th>\n",
       "      <th>의원실 안내</th>\n",
       "      <th>이름</th>\n",
       "      <th>이미지</th>\n",
       "      <th>생년월일</th>\n",
       "    </tr>\n",
       "  </thead>\n",
       "  <tbody>\n",
       "    <tr>\n",
       "      <th>0</th>\n",
       "      <td>국민의힘</td>\n",
       "      <td>경남창원시성산구</td>\n",
       "      <td>보건복지위원회</td>\n",
       "      <td>재선(19대,21대)</td>\n",
       "      <td>02-784-1751</td>\n",
       "      <td>의원회관937호</td>\n",
       "      <td>http://blog.naver.com/ggotop</td>\n",
       "      <td>ggotop@naver.com</td>\n",
       "      <td>김홍광,한영애</td>\n",
       "      <td>지상훈,최광림</td>\n",
       "      <td>김영록,안효상,이유진,홍지형,김지훈</td>\n",
       "      <td></td>\n",
       "      <td></td>\n",
       "      <td>강기윤</td>\n",
       "      <td>https://www.assembly.go.kr/photo/9771230.jpg</td>\n",
       "      <td>1960-06-04</td>\n",
       "    </tr>\n",
       "    <tr>\n",
       "      <th>1</th>\n",
       "      <td>국민의힘</td>\n",
       "      <td>대구동구을</td>\n",
       "      <td>국방위원회,정치개혁특별위원회</td>\n",
       "      <td>초선(21대)</td>\n",
       "      <td>02-784-5275</td>\n",
       "      <td>의원회관341호</td>\n",
       "      <td></td>\n",
       "      <td>kds21341@naver.com</td>\n",
       "      <td>박홍규,정운태</td>\n",
       "      <td>유진영,이기백</td>\n",
       "      <td>박순권,김광연,김현정,송민욱</td>\n",
       "      <td></td>\n",
       "      <td></td>\n",
       "      <td>강대식</td>\n",
       "      <td>https://www.assembly.go.kr/photo/9771142.jpg</td>\n",
       "      <td>1959-11-02</td>\n",
       "    </tr>\n",
       "    <tr>\n",
       "      <th>2</th>\n",
       "      <td>더불어민주당</td>\n",
       "      <td>경기안양시만안구</td>\n",
       "      <td>교육위원회,예산결산특별위원회</td>\n",
       "      <td>초선(21대)</td>\n",
       "      <td>02-784-2747~9</td>\n",
       "      <td>의원회관440호</td>\n",
       "      <td>https://blog.naver.com/dulipapa</td>\n",
       "      <td>mainsail440@daum.net</td>\n",
       "      <td>서용선,안홍식</td>\n",
       "      <td>최경순,홍미하</td>\n",
       "      <td>문형구,최기섭,조나연,오세령,배은경</td>\n",
       "      <td></td>\n",
       "      <td>강득구의원의'사람중심민생중심'의정활동이국민의삶에힘이되도록열심히하고있습니다.강득구의원...</td>\n",
       "      <td>강득구</td>\n",
       "      <td>https://www.assembly.go.kr/photo/9771174.jpg</td>\n",
       "      <td>1963-05-27</td>\n",
       "    </tr>\n",
       "  </tbody>\n",
       "</table>\n",
       "</div>"
      ],
      "text/plain": [
       "       정당       선거구            소속위원회         당선횟수         사무실 전화    사무실 호실  \\\n",
       "0    국민의힘  경남창원시성산구          보건복지위원회  재선(19대,21대)    02-784-1751  의원회관937호   \n",
       "1    국민의힘     대구동구을  국방위원회,정치개혁특별위원회      초선(21대)    02-784-5275  의원회관341호   \n",
       "2  더불어민주당  경기안양시만안구  교육위원회,예산결산특별위원회      초선(21대)  02-784-2747~9  의원회관440호   \n",
       "\n",
       "                              홈페이지                   이메일      보좌관      비서관  \\\n",
       "0     http://blog.naver.com/ggotop      ggotop@naver.com  김홍광,한영애  지상훈,최광림   \n",
       "1                                     kds21341@naver.com  박홍규,정운태  유진영,이기백   \n",
       "2  https://blog.naver.com/dulipapa  mainsail440@daum.net  서용선,안홍식  최경순,홍미하   \n",
       "\n",
       "                    비서 취미, 특기  \\\n",
       "0  김영록,안효상,이유진,홍지형,김지훈          \n",
       "1      박순권,김광연,김현정,송민욱          \n",
       "2  문형구,최기섭,조나연,오세령,배은경          \n",
       "\n",
       "                                              의원실 안내   이름  \\\n",
       "0                                                     강기윤   \n",
       "1                                                     강대식   \n",
       "2  강득구의원의'사람중심민생중심'의정활동이국민의삶에힘이되도록열심히하고있습니다.강득구의원...  강득구   \n",
       "\n",
       "                                            이미지        생년월일  \n",
       "0  https://www.assembly.go.kr/photo/9771230.jpg  1960-06-04  \n",
       "1  https://www.assembly.go.kr/photo/9771142.jpg  1959-11-02  \n",
       "2  https://www.assembly.go.kr/photo/9771174.jpg  1963-05-27  "
      ]
     },
     "execution_count": 7,
     "metadata": {},
     "output_type": "execute_result"
    }
   ],
   "source": [
    "member_df.head(3)"
   ]
  },
  {
   "cell_type": "code",
   "execution_count": 8,
   "metadata": {},
   "outputs": [
    {
     "name": "stdout",
     "output_type": "stream",
     "text": [
      "<class 'pandas.core.frame.DataFrame'>\n",
      "RangeIndex: 295 entries, 0 to 294\n",
      "Data columns (total 16 columns):\n",
      " #   Column  Non-Null Count  Dtype \n",
      "---  ------  --------------  ----- \n",
      " 0   정당      295 non-null    object\n",
      " 1   선거구     295 non-null    object\n",
      " 2   소속위원회   295 non-null    object\n",
      " 3   당선횟수    295 non-null    object\n",
      " 4   사무실 전화  295 non-null    object\n",
      " 5   사무실 호실  295 non-null    object\n",
      " 6   홈페이지    295 non-null    object\n",
      " 7   이메일     295 non-null    object\n",
      " 8   보좌관     295 non-null    object\n",
      " 9   비서관     295 non-null    object\n",
      " 10  비서      295 non-null    object\n",
      " 11  취미, 특기  295 non-null    object\n",
      " 12  의원실 안내  295 non-null    object\n",
      " 13  이름      295 non-null    object\n",
      " 14  이미지     295 non-null    object\n",
      " 15  생년월일    295 non-null    object\n",
      "dtypes: object(16)\n",
      "memory usage: 37.0+ KB\n"
     ]
    }
   ],
   "source": [
    "member_df.info()"
   ]
  },
  {
   "cell_type": "code",
   "execution_count": 10,
   "metadata": {},
   "outputs": [
    {
     "data": {
      "text/plain": [
       "0        국민의힘\n",
       "1        국민의힘\n",
       "2      더불어민주당\n",
       "3        국민의힘\n",
       "4      더불어민주당\n",
       "        ...  \n",
       "290    더불어민주당\n",
       "291      국민의힘\n",
       "292      국민의힘\n",
       "293    더불어민주당\n",
       "294    더불어민주당\n",
       "Name: 정당, Length: 295, dtype: object"
      ]
     },
     "execution_count": 10,
     "metadata": {},
     "output_type": "execute_result"
    }
   ],
   "source": [
    "member_df['정당']"
   ]
  },
  {
   "cell_type": "code",
   "execution_count": 11,
   "metadata": {},
   "outputs": [
    {
     "data": {
      "text/plain": [
       "array(['국민의힘', '더불어민주당', '정의당', '국민의당', '무소속', '기본소득당', '시대전환'],\n",
       "      dtype=object)"
      ]
     },
     "execution_count": 11,
     "metadata": {},
     "output_type": "execute_result"
    }
   ],
   "source": [
    "member_df['정당'].unique()"
   ]
  },
  {
   "cell_type": "code",
   "execution_count": 12,
   "metadata": {},
   "outputs": [
    {
     "data": {
      "text/plain": [
       "더불어민주당    172\n",
       "국민의힘      106\n",
       "정의당         6\n",
       "무소속         6\n",
       "국민의당        3\n",
       "기본소득당       1\n",
       "시대전환        1\n",
       "Name: 정당, dtype: int64"
      ]
     },
     "execution_count": 12,
     "metadata": {},
     "output_type": "execute_result"
    }
   ],
   "source": [
    "member_df['정당'].value_counts()"
   ]
  },
  {
   "cell_type": "code",
   "execution_count": 13,
   "metadata": {},
   "outputs": [
    {
     "data": {
      "text/plain": [
       "초선(21대)                        149\n",
       "재선(20대,21대)                     60\n",
       "3선(19대,20대,21대)                 33\n",
       "4선(17대,19대,20대,21대)             10\n",
       "재선(19대,21대)                      9\n",
       "5선(17대,18대,19대,20대,21대)          7\n",
       "4선(18대,19대,20대,21대)              6\n",
       "3선(18대,19대,21대)                  3\n",
       "재선(17대,21대)                      2\n",
       "4선(16대,17대,18대,21대)              2\n",
       "5선(16대,17대,18대,20대,21대)          2\n",
       "3선(17대,19대,21대)                  2\n",
       "3선(18대,20대,21대)                  2\n",
       "4선(17대,18대,19대,21대)              1\n",
       "3선(15대,16대,21대)                  1\n",
       "6선(16대,17대,18대,19대,20대,21대)      1\n",
       "5선(16대,17대,18대,19대,21대)          1\n",
       "5선(15대,16대,19대,20대,21대)          1\n",
       "3선(17대,18대,21대)                  1\n",
       "재선(18대,21대)                      1\n",
       "5선(15대,16대,17대,18대,21대)          1\n",
       "Name: 당선횟수, dtype: int64"
      ]
     },
     "execution_count": 13,
     "metadata": {},
     "output_type": "execute_result"
    }
   ],
   "source": [
    "member_df['당선횟수'].value_counts()"
   ]
  },
  {
   "cell_type": "code",
   "execution_count": null,
   "metadata": {},
   "outputs": [],
   "source": []
  },
  {
   "cell_type": "code",
   "execution_count": 14,
   "metadata": {},
   "outputs": [
    {
     "data": {
      "text/plain": [
       "비례대표              47\n",
       "경남창원시성산구           1\n",
       "광주광산구갑             1\n",
       "전남담양군함평군영광군장성군     1\n",
       "강원원주시갑             1\n",
       "                  ..\n",
       "경남창원시의창구           1\n",
       "충남천안시을             1\n",
       "서울강북구을             1\n",
       "부산남구을              1\n",
       "서울양천구갑             1\n",
       "Name: 선거구, Length: 249, dtype: int64"
      ]
     },
     "execution_count": 14,
     "metadata": {},
     "output_type": "execute_result"
    }
   ],
   "source": [
    "member_df['선거구'].value_counts()"
   ]
  },
  {
   "cell_type": "code",
   "execution_count": 17,
   "metadata": {},
   "outputs": [
    {
     "data": {
      "text/plain": [
       "0          ggotop@naver.com\n",
       "1        kds21341@naver.com\n",
       "2      mainsail440@daum.net\n",
       "3    strongwind01@naver.com\n",
       "4      kmj2020edu@gmail.com\n",
       "Name: 이메일, dtype: object"
      ]
     },
     "execution_count": 17,
     "metadata": {},
     "output_type": "execute_result"
    }
   ],
   "source": [
    "member_df['이메일'].head(5)"
   ]
  },
  {
   "cell_type": "code",
   "execution_count": 18,
   "metadata": {},
   "outputs": [
    {
     "name": "stdout",
     "output_type": "stream",
     "text": [
      "<class 'pandas.core.series.Series'>\n"
     ]
    }
   ],
   "source": [
    "print(type(member_df['당선횟수']))"
   ]
  },
  {
   "cell_type": "code",
   "execution_count": 20,
   "metadata": {},
   "outputs": [
    {
     "name": "stdout",
     "output_type": "stream",
     "text": [
      "<class 'pandas.core.strings.accessor.StringMethods'>\n"
     ]
    }
   ],
   "source": [
    "print(type(member_df['당선횟수'].str))\n",
    "##Series객체를 StringMethods 객체로 변환(문자열 슬라이싱을 하기 위해서)"
   ]
  },
  {
   "cell_type": "code",
   "execution_count": 21,
   "metadata": {},
   "outputs": [],
   "source": [
    "temp_str = member_df['당선횟수'].str"
   ]
  },
  {
   "cell_type": "code",
   "execution_count": 24,
   "metadata": {},
   "outputs": [
    {
     "name": "stdout",
     "output_type": "stream",
     "text": [
      "<class 'pandas.core.strings.accessor.StringMethods'>\n",
      "<pandas.core.strings.accessor.StringMethods object at 0x000002A0A921C220>\n"
     ]
    }
   ],
   "source": [
    "print(type(temp_str))\n",
    "print(temp_str)"
   ]
  },
  {
   "cell_type": "code",
   "execution_count": 31,
   "metadata": {},
   "outputs": [
    {
     "name": "stdout",
     "output_type": "stream",
     "text": [
      "0      재선\n",
      "1      초선\n",
      "2      초선\n",
      "3      초선\n",
      "4      초선\n",
      "       ..\n",
      "290    초선\n",
      "291    5선\n",
      "292    초선\n",
      "293    초선\n",
      "294    재선\n",
      "Name: 당선횟수2, Length: 295, dtype: object\n"
     ]
    }
   ],
   "source": [
    "member_df['당선횟수2'] = temp_str[:2]\n",
    "print(member_df['당선횟수2'])"
   ]
  },
  {
   "cell_type": "code",
   "execution_count": 34,
   "metadata": {},
   "outputs": [
    {
     "data": {
      "text/html": [
       "<div>\n",
       "<style scoped>\n",
       "    .dataframe tbody tr th:only-of-type {\n",
       "        vertical-align: middle;\n",
       "    }\n",
       "\n",
       "    .dataframe tbody tr th {\n",
       "        vertical-align: top;\n",
       "    }\n",
       "\n",
       "    .dataframe thead th {\n",
       "        text-align: right;\n",
       "    }\n",
       "</style>\n",
       "<table border=\"1\" class=\"dataframe\">\n",
       "  <thead>\n",
       "    <tr style=\"text-align: right;\">\n",
       "      <th></th>\n",
       "      <th>당선횟수</th>\n",
       "      <th>당선횟수2</th>\n",
       "    </tr>\n",
       "  </thead>\n",
       "  <tbody>\n",
       "    <tr>\n",
       "      <th>0</th>\n",
       "      <td>재선(19대,21대)</td>\n",
       "      <td>재선</td>\n",
       "    </tr>\n",
       "    <tr>\n",
       "      <th>1</th>\n",
       "      <td>초선(21대)</td>\n",
       "      <td>초선</td>\n",
       "    </tr>\n",
       "    <tr>\n",
       "      <th>2</th>\n",
       "      <td>초선(21대)</td>\n",
       "      <td>초선</td>\n",
       "    </tr>\n",
       "    <tr>\n",
       "      <th>3</th>\n",
       "      <td>초선(21대)</td>\n",
       "      <td>초선</td>\n",
       "    </tr>\n",
       "    <tr>\n",
       "      <th>4</th>\n",
       "      <td>초선(21대)</td>\n",
       "      <td>초선</td>\n",
       "    </tr>\n",
       "    <tr>\n",
       "      <th>5</th>\n",
       "      <td>재선(20대,21대)</td>\n",
       "      <td>재선</td>\n",
       "    </tr>\n",
       "  </tbody>\n",
       "</table>\n",
       "</div>"
      ],
      "text/plain": [
       "          당선횟수 당선횟수2\n",
       "0  재선(19대,21대)    재선\n",
       "1      초선(21대)    초선\n",
       "2      초선(21대)    초선\n",
       "3      초선(21대)    초선\n",
       "4      초선(21대)    초선\n",
       "5  재선(20대,21대)    재선"
      ]
     },
     "execution_count": 34,
     "metadata": {},
     "output_type": "execute_result"
    }
   ],
   "source": [
    "member_df.loc[:5,['당선횟수','당선횟수2']]"
   ]
  },
  {
   "cell_type": "code",
   "execution_count": 35,
   "metadata": {},
   "outputs": [
    {
     "data": {
      "text/plain": [
       "초선    149\n",
       "재선     72\n",
       "3선     42\n",
       "4선     19\n",
       "5선     12\n",
       "6선      1\n",
       "Name: 당선횟수2, dtype: int64"
      ]
     },
     "execution_count": 35,
     "metadata": {},
     "output_type": "execute_result"
    }
   ],
   "source": [
    "member_df['당선횟수2'].value_counts()"
   ]
  },
  {
   "cell_type": "code",
   "execution_count": 42,
   "metadata": {},
   "outputs": [
    {
     "data": {
      "text/html": [
       "<div>\n",
       "<style scoped>\n",
       "    .dataframe tbody tr th:only-of-type {\n",
       "        vertical-align: middle;\n",
       "    }\n",
       "\n",
       "    .dataframe tbody tr th {\n",
       "        vertical-align: top;\n",
       "    }\n",
       "\n",
       "    .dataframe thead th {\n",
       "        text-align: right;\n",
       "    }\n",
       "</style>\n",
       "<table border=\"1\" class=\"dataframe\">\n",
       "  <thead>\n",
       "    <tr style=\"text-align: right;\">\n",
       "      <th></th>\n",
       "      <th>정당</th>\n",
       "      <th>선거구</th>\n",
       "      <th>소속위원회</th>\n",
       "      <th>당선횟수</th>\n",
       "      <th>사무실 전화</th>\n",
       "      <th>사무실 호실</th>\n",
       "      <th>홈페이지</th>\n",
       "      <th>이메일</th>\n",
       "      <th>보좌관</th>\n",
       "      <th>비서관</th>\n",
       "      <th>비서</th>\n",
       "      <th>취미, 특기</th>\n",
       "      <th>의원실 안내</th>\n",
       "      <th>이름</th>\n",
       "      <th>이미지</th>\n",
       "      <th>생년월일</th>\n",
       "      <th>당선횟수2</th>\n",
       "    </tr>\n",
       "  </thead>\n",
       "  <tbody>\n",
       "    <tr>\n",
       "      <th>91</th>\n",
       "      <td>무소속</td>\n",
       "      <td>대전서구갑</td>\n",
       "      <td></td>\n",
       "      <td>6선(16대,17대,18대,19대,20대,21대)</td>\n",
       "      <td>02-6788-6461</td>\n",
       "      <td>의원회관804호</td>\n",
       "      <td></td>\n",
       "      <td>pbs2100@gmail.com</td>\n",
       "      <td>박승규,송석근</td>\n",
       "      <td>김민숙,좌승택</td>\n",
       "      <td>이영해,조연길,최지연,임규보,이초롱</td>\n",
       "      <td></td>\n",
       "      <td></td>\n",
       "      <td>박병석</td>\n",
       "      <td>https://www.assembly.go.kr/photo/9770090.jpg</td>\n",
       "      <td>1952-01-25</td>\n",
       "      <td>6선</td>\n",
       "    </tr>\n",
       "  </tbody>\n",
       "</table>\n",
       "</div>"
      ],
      "text/plain": [
       "     정당    선거구 소속위원회                         당선횟수        사무실 전화    사무실 호실  \\\n",
       "91  무소속  대전서구갑        6선(16대,17대,18대,19대,20대,21대)  02-6788-6461  의원회관804호   \n",
       "\n",
       "   홈페이지                이메일      보좌관      비서관                   비서 취미, 특기  \\\n",
       "91       pbs2100@gmail.com  박승규,송석근  김민숙,좌승택  이영해,조연길,최지연,임규보,이초롱          \n",
       "\n",
       "   의원실 안내   이름                                           이미지        생년월일 당선횟수2  \n",
       "91         박병석  https://www.assembly.go.kr/photo/9770090.jpg  1952-01-25    6선  "
      ]
     },
     "execution_count": 42,
     "metadata": {},
     "output_type": "execute_result"
    }
   ],
   "source": [
    "# 3선 4선 5선 6선 누구임? 알아보자\n",
    "# member_df.loc[member_df['당선횟수2'] == '3선'].head(2)\n",
    "# member_df.loc[member_df['당선횟수2'] == '4선'].head(2)\n",
    "# member_df.loc[member_df['당선횟수2'] == '5선'].head(2)\n",
    "member_df.loc[member_df['당선횟수2'] == '6선']"
   ]
  },
  {
   "cell_type": "code",
   "execution_count": 43,
   "metadata": {},
   "outputs": [
    {
     "data": {
      "text/plain": [
       "0      경남창원시성산구\n",
       "1         대구동구을\n",
       "2      경기안양시만안구\n",
       "3        경남진주시을\n",
       "4          비례대표\n",
       "         ...   \n",
       "290      경기고양시병\n",
       "291      대구수성구을\n",
       "292     부산중구영도구\n",
       "293        대전중구\n",
       "294      서울양천구갑\n",
       "Name: 선거구, Length: 295, dtype: object"
      ]
     },
     "execution_count": 43,
     "metadata": {},
     "output_type": "execute_result"
    }
   ],
   "source": [
    "#선거구를 알아보자 \n",
    "\n",
    "member_df['선거구']"
   ]
  },
  {
   "cell_type": "code",
   "execution_count": 44,
   "metadata": {},
   "outputs": [],
   "source": [
    "local_str = member_df['선거구'].str"
   ]
  },
  {
   "cell_type": "code",
   "execution_count": 45,
   "metadata": {},
   "outputs": [
    {
     "name": "stdout",
     "output_type": "stream",
     "text": [
      "<pandas.core.strings.accessor.StringMethods object at 0x000002A0A921C100>\n"
     ]
    }
   ],
   "source": [
    "print(local_str)"
   ]
  },
  {
   "cell_type": "code",
   "execution_count": 46,
   "metadata": {},
   "outputs": [],
   "source": [
    "#선거구 앞 2글자만따서 지역으로 표시해주자 \n",
    "\n",
    "member_df['선거구2'] = local_str[:2]"
   ]
  },
  {
   "cell_type": "code",
   "execution_count": 47,
   "metadata": {},
   "outputs": [
    {
     "name": "stdout",
     "output_type": "stream",
     "text": [
      "0      경남\n",
      "1      대구\n",
      "2      경기\n",
      "3      경남\n",
      "4      비례\n",
      "       ..\n",
      "290    경기\n",
      "291    대구\n",
      "292    부산\n",
      "293    대전\n",
      "294    서울\n",
      "Name: 선거구2, Length: 295, dtype: object\n"
     ]
    }
   ],
   "source": [
    "print(member_df['선거구2'])"
   ]
  },
  {
   "cell_type": "code",
   "execution_count": 49,
   "metadata": {},
   "outputs": [
    {
     "data": {
      "text/html": [
       "<div>\n",
       "<style scoped>\n",
       "    .dataframe tbody tr th:only-of-type {\n",
       "        vertical-align: middle;\n",
       "    }\n",
       "\n",
       "    .dataframe tbody tr th {\n",
       "        vertical-align: top;\n",
       "    }\n",
       "\n",
       "    .dataframe thead th {\n",
       "        text-align: right;\n",
       "    }\n",
       "</style>\n",
       "<table border=\"1\" class=\"dataframe\">\n",
       "  <thead>\n",
       "    <tr style=\"text-align: right;\">\n",
       "      <th></th>\n",
       "      <th>선거구</th>\n",
       "      <th>선거구2</th>\n",
       "    </tr>\n",
       "  </thead>\n",
       "  <tbody>\n",
       "    <tr>\n",
       "      <th>0</th>\n",
       "      <td>경남창원시성산구</td>\n",
       "      <td>경남</td>\n",
       "    </tr>\n",
       "    <tr>\n",
       "      <th>1</th>\n",
       "      <td>대구동구을</td>\n",
       "      <td>대구</td>\n",
       "    </tr>\n",
       "    <tr>\n",
       "      <th>2</th>\n",
       "      <td>경기안양시만안구</td>\n",
       "      <td>경기</td>\n",
       "    </tr>\n",
       "    <tr>\n",
       "      <th>3</th>\n",
       "      <td>경남진주시을</td>\n",
       "      <td>경남</td>\n",
       "    </tr>\n",
       "    <tr>\n",
       "      <th>4</th>\n",
       "      <td>비례대표</td>\n",
       "      <td>비례</td>\n",
       "    </tr>\n",
       "    <tr>\n",
       "      <th>5</th>\n",
       "      <td>서울은평구을</td>\n",
       "      <td>서울</td>\n",
       "    </tr>\n",
       "    <tr>\n",
       "      <th>6</th>\n",
       "      <td>서울강서구갑</td>\n",
       "      <td>서울</td>\n",
       "    </tr>\n",
       "    <tr>\n",
       "      <th>7</th>\n",
       "      <td>비례대표</td>\n",
       "      <td>비례</td>\n",
       "    </tr>\n",
       "    <tr>\n",
       "      <th>8</th>\n",
       "      <td>세종특별자치시을</td>\n",
       "      <td>세종</td>\n",
       "    </tr>\n",
       "    <tr>\n",
       "      <th>9</th>\n",
       "      <td>충남아산시을</td>\n",
       "      <td>충남</td>\n",
       "    </tr>\n",
       "    <tr>\n",
       "      <th>10</th>\n",
       "      <td>서울광진구을</td>\n",
       "      <td>서울</td>\n",
       "    </tr>\n",
       "  </tbody>\n",
       "</table>\n",
       "</div>"
      ],
      "text/plain": [
       "         선거구 선거구2\n",
       "0   경남창원시성산구   경남\n",
       "1      대구동구을   대구\n",
       "2   경기안양시만안구   경기\n",
       "3     경남진주시을   경남\n",
       "4       비례대표   비례\n",
       "5     서울은평구을   서울\n",
       "6     서울강서구갑   서울\n",
       "7       비례대표   비례\n",
       "8   세종특별자치시을   세종\n",
       "9     충남아산시을   충남\n",
       "10    서울광진구을   서울"
      ]
     },
     "execution_count": 49,
     "metadata": {},
     "output_type": "execute_result"
    }
   ],
   "source": [
    "member_df.loc[:10,['선거구','선거구2']]"
   ]
  },
  {
   "cell_type": "code",
   "execution_count": 50,
   "metadata": {},
   "outputs": [
    {
     "data": {
      "text/plain": [
       "0      1960-06-04\n",
       "1      1959-11-02\n",
       "2      1963-05-27\n",
       "3      1971-03-03\n",
       "4      1961-04-26\n",
       "          ...    \n",
       "290    1978-11-24\n",
       "291    1954-12-05\n",
       "292    1976-08-05\n",
       "293    1962-09-10\n",
       "294    1967-07-28\n",
       "Name: 생년월일, Length: 295, dtype: object"
      ]
     },
     "execution_count": 50,
     "metadata": {},
     "output_type": "execute_result"
    }
   ],
   "source": [
    "# 가장 최연소 국회의원과 초고령 국회의원을 알아보자\n",
    "member_df['생년월일']"
   ]
  },
  {
   "cell_type": "code",
   "execution_count": 52,
   "metadata": {},
   "outputs": [
    {
     "name": "stdout",
     "output_type": "stream",
     "text": [
      "0      1960\n",
      "1      1959\n",
      "2      1963\n",
      "3      1971\n",
      "4      1961\n",
      "       ... \n",
      "290    1978\n",
      "291    1954\n",
      "292    1976\n",
      "293    1962\n",
      "294    1967\n",
      "Name: year, Length: 295, dtype: int64\n"
     ]
    }
   ],
   "source": [
    "#year, month, day를 만들어주자\n",
    "member_df['year'] = pd.DatetimeIndex(member_df['생년월일']).year\n",
    "member_df['month'] = pd.DatetimeIndex(member_df['생년월일']).month\n",
    "member_df['day'] = pd.DatetimeIndex(member_df['생년월일']).day\n",
    "\n",
    "print(member_df['year'])"
   ]
  },
  {
   "cell_type": "code",
   "execution_count": 54,
   "metadata": {},
   "outputs": [
    {
     "data": {
      "text/html": [
       "<div>\n",
       "<style scoped>\n",
       "    .dataframe tbody tr th:only-of-type {\n",
       "        vertical-align: middle;\n",
       "    }\n",
       "\n",
       "    .dataframe tbody tr th {\n",
       "        vertical-align: top;\n",
       "    }\n",
       "\n",
       "    .dataframe thead th {\n",
       "        text-align: right;\n",
       "    }\n",
       "</style>\n",
       "<table border=\"1\" class=\"dataframe\">\n",
       "  <thead>\n",
       "    <tr style=\"text-align: right;\">\n",
       "      <th></th>\n",
       "      <th>year</th>\n",
       "      <th>month</th>\n",
       "      <th>day</th>\n",
       "    </tr>\n",
       "  </thead>\n",
       "  <tbody>\n",
       "    <tr>\n",
       "      <th>0</th>\n",
       "      <td>1960</td>\n",
       "      <td>6</td>\n",
       "      <td>4</td>\n",
       "    </tr>\n",
       "    <tr>\n",
       "      <th>1</th>\n",
       "      <td>1959</td>\n",
       "      <td>11</td>\n",
       "      <td>2</td>\n",
       "    </tr>\n",
       "    <tr>\n",
       "      <th>2</th>\n",
       "      <td>1963</td>\n",
       "      <td>5</td>\n",
       "      <td>27</td>\n",
       "    </tr>\n",
       "    <tr>\n",
       "      <th>3</th>\n",
       "      <td>1971</td>\n",
       "      <td>3</td>\n",
       "      <td>3</td>\n",
       "    </tr>\n",
       "  </tbody>\n",
       "</table>\n",
       "</div>"
      ],
      "text/plain": [
       "   year  month  day\n",
       "0  1960      6    4\n",
       "1  1959     11    2\n",
       "2  1963      5   27\n",
       "3  1971      3    3"
      ]
     },
     "execution_count": 54,
     "metadata": {},
     "output_type": "execute_result"
    }
   ],
   "source": [
    "member_df.loc[0:3,['year','month','day']]"
   ]
  },
  {
   "cell_type": "code",
   "execution_count": 57,
   "metadata": {},
   "outputs": [
    {
     "data": {
      "text/html": [
       "<div>\n",
       "<style scoped>\n",
       "    .dataframe tbody tr th:only-of-type {\n",
       "        vertical-align: middle;\n",
       "    }\n",
       "\n",
       "    .dataframe tbody tr th {\n",
       "        vertical-align: top;\n",
       "    }\n",
       "\n",
       "    .dataframe thead th {\n",
       "        text-align: right;\n",
       "    }\n",
       "</style>\n",
       "<table border=\"1\" class=\"dataframe\">\n",
       "  <thead>\n",
       "    <tr style=\"text-align: right;\">\n",
       "      <th></th>\n",
       "      <th>이름</th>\n",
       "      <th>정당</th>\n",
       "      <th>생년월일</th>\n",
       "    </tr>\n",
       "  </thead>\n",
       "  <tbody>\n",
       "    <tr>\n",
       "      <th>79</th>\n",
       "      <td>류호정</td>\n",
       "      <td>정의당</td>\n",
       "      <td>1992-08-09</td>\n",
       "    </tr>\n",
       "  </tbody>\n",
       "</table>\n",
       "</div>"
      ],
      "text/plain": [
       "     이름   정당        생년월일\n",
       "79  류호정  정의당  1992-08-09"
      ]
     },
     "execution_count": 57,
     "metadata": {},
     "output_type": "execute_result"
    }
   ],
   "source": [
    "#나이가 가장 어린 사람은?\n",
    "member_df.loc[member_df['year'] == member_df['year'].max(),['이름','정당','생년월일']]"
   ]
  },
  {
   "cell_type": "code",
   "execution_count": 58,
   "metadata": {},
   "outputs": [
    {
     "data": {
      "text/html": [
       "<div>\n",
       "<style scoped>\n",
       "    .dataframe tbody tr th:only-of-type {\n",
       "        vertical-align: middle;\n",
       "    }\n",
       "\n",
       "    .dataframe tbody tr th {\n",
       "        vertical-align: top;\n",
       "    }\n",
       "\n",
       "    .dataframe thead th {\n",
       "        text-align: right;\n",
       "    }\n",
       "</style>\n",
       "<table border=\"1\" class=\"dataframe\">\n",
       "  <thead>\n",
       "    <tr style=\"text-align: right;\">\n",
       "      <th></th>\n",
       "      <th>이름</th>\n",
       "      <th>정당</th>\n",
       "      <th>생년월일</th>\n",
       "    </tr>\n",
       "  </thead>\n",
       "  <tbody>\n",
       "    <tr>\n",
       "      <th>64</th>\n",
       "      <td>김진표</td>\n",
       "      <td>더불어민주당</td>\n",
       "      <td>1947-05-04</td>\n",
       "    </tr>\n",
       "    <tr>\n",
       "      <th>285</th>\n",
       "      <td>홍문표</td>\n",
       "      <td>국민의힘</td>\n",
       "      <td>1947-10-05</td>\n",
       "    </tr>\n",
       "  </tbody>\n",
       "</table>\n",
       "</div>"
      ],
      "text/plain": [
       "      이름      정당        생년월일\n",
       "64   김진표  더불어민주당  1947-05-04\n",
       "285  홍문표    국민의힘  1947-10-05"
      ]
     },
     "execution_count": 58,
     "metadata": {},
     "output_type": "execute_result"
    }
   ],
   "source": [
    "#나이가 가장 많은 사람은?\n",
    "member_df.loc[member_df['year'] == member_df['year'].min(),['이름','정당','생년월일']]"
   ]
  },
  {
   "cell_type": "code",
   "execution_count": 59,
   "metadata": {},
   "outputs": [],
   "source": [
    "#나이를 계산하는 함수 정의하기\n",
    "from datetime import date\n",
    "\n",
    "# 인자로 받는 birth는 datetime.date 객체이다.\n",
    "def calc_age(birth):\n",
    "    #현재날짜\n",
    "    today = date.today()\n",
    "    age = today.year - birth.year - ((today.month, today.day) < (birth.month, birth.day))\n",
    "    return age"
   ]
  },
  {
   "cell_type": "code",
   "execution_count": 60,
   "metadata": {},
   "outputs": [
    {
     "data": {
      "text/plain": [
       "102"
      ]
     },
     "execution_count": 60,
     "metadata": {},
     "output_type": "execute_result"
    }
   ],
   "source": [
    "calc_age(date(1920,1,1))"
   ]
  },
  {
   "cell_type": "code",
   "execution_count": 61,
   "metadata": {},
   "outputs": [
    {
     "name": "stdout",
     "output_type": "stream",
     "text": [
      "295\n"
     ]
    },
    {
     "data": {
      "text/plain": [
       "[61, 62, 58, 50, 60, 50, 43, 51, 57, 48]"
      ]
     },
     "execution_count": 61,
     "metadata": {},
     "output_type": "execute_result"
    }
   ],
   "source": [
    "#Row별로 년,월,일 컬럼의 값으로 나이를 계산하고 \n",
    "#계산된 나이값을 age_list에 추가하기\n",
    "age_list = []\n",
    "for idx,row in member_df.iterrows():\n",
    "    #print(idx,type(row), row['year'])\n",
    "    age = calc_age(date(row['year'],row['month'],row['day']))\n",
    "    age_list.append(age)\n",
    "\n",
    "print(len(age_list))\n",
    "age_list[:10]"
   ]
  },
  {
   "cell_type": "code",
   "execution_count": 62,
   "metadata": {},
   "outputs": [
    {
     "data": {
      "text/plain": [
       "0    61\n",
       "1    62\n",
       "2    58\n",
       "3    50\n",
       "4    60\n",
       "Name: 나이, dtype: int64"
      ]
     },
     "execution_count": 62,
     "metadata": {},
     "output_type": "execute_result"
    }
   ],
   "source": [
    "# age 칼럼 추가\n",
    "member_df['나이'] = age_list\n",
    "\n",
    "member_df['나이'].head()"
   ]
  },
  {
   "cell_type": "code",
   "execution_count": 63,
   "metadata": {},
   "outputs": [
    {
     "data": {
      "text/plain": [
       "count    295.000000\n",
       "mean      56.738983\n",
       "std        7.349141\n",
       "min       29.000000\n",
       "25%       54.000000\n",
       "50%       58.000000\n",
       "75%       61.000000\n",
       "max       74.000000\n",
       "Name: 나이, dtype: float64"
      ]
     },
     "execution_count": 63,
     "metadata": {},
     "output_type": "execute_result"
    }
   ],
   "source": [
    "#describe로 알아보기\n",
    "member_df['나이'].describe()"
   ]
  },
  {
   "cell_type": "code",
   "execution_count": 65,
   "metadata": {},
   "outputs": [
    {
     "data": {
      "text/plain": [
       "Index(['정당', '선거구', '소속위원회', '당선횟수', '사무실 전화', '사무실 호실', '홈페이지', '이메일', '보좌관',\n",
       "       '비서관', '비서', '취미, 특기', '의원실 안내', '이름', '이미지', '생년월일', '당선횟수2', '선거구2',\n",
       "       'year', 'month', 'day', '나이'],\n",
       "      dtype='object')"
      ]
     },
     "execution_count": 65,
     "metadata": {},
     "output_type": "execute_result"
    }
   ],
   "source": [
    "# 다시한번 추가된 column이 뭐가 있는지 확인해보자 \n",
    "member_df.columns"
   ]
  },
  {
   "cell_type": "markdown",
   "metadata": {},
   "source": [
    "#### 시각화(Visualization)\n",
    "* Image 출력 - IPython에서 제공하는 Image 객체, display() 함수 사용\n",
    "* seaborn - countplot, distplot, heatmap\n",
    "* matplotlib - histogram, pie chart\n",
    "* 한글폰트 설정"
   ]
  },
  {
   "cell_type": "code",
   "execution_count": 67,
   "metadata": {},
   "outputs": [
    {
     "name": "stdout",
     "output_type": "stream",
     "text": [
      "https://www.assembly.go.kr/photo/9771155.jpg\n",
      "https://www.assembly.go.kr/photo/9770755.jpg\n",
      "https://www.assembly.go.kr/photo/9770952.jpg\n",
      "https://www.assembly.go.kr/photo/9771276.jpg\n",
      "https://www.assembly.go.kr/photo/9771003.jpg\n"
     ]
    }
   ],
   "source": [
    "#이미지를 html로 뽑기 위한 ipython.display\n",
    "from IPython.display import Image, display\n",
    "\n",
    "#5개만 뽑아보자 \n",
    "for img_url in member_df['이미지'].sample(5):\n",
    "    print(img_url)"
   ]
  },
  {
   "cell_type": "code",
   "execution_count": 68,
   "metadata": {},
   "outputs": [],
   "source": [
    "# jupyter notebook 상에서 그림을 보기 위해 matplotlib inline을 갖고온다\n",
    "\n",
    "%matplotlib inline"
   ]
  },
  {
   "cell_type": "code",
   "execution_count": 84,
   "metadata": {},
   "outputs": [],
   "source": [
    "#필요한 라이브러리 갖고오기\n",
    "#폰트 갖고오기 \n",
    "#bar 그래프를 위핸 seaborn 갖고오기 \n",
    "import matplotlib\n",
    "import matplotlib.pyplot as plt\n",
    "import matplotlib.font_manager as fm\n",
    "\n",
    "import seaborn"
   ]
  },
  {
   "cell_type": "code",
   "execution_count": 72,
   "metadata": {},
   "outputs": [
    {
     "name": "stdout",
     "output_type": "stream",
     "text": [
      "C:\\Users\\junkyu-laptop\\AppData\\Local\\Microsoft\\Windows\\Fonts\\malgun.ttf >> Malgun Gothic\n",
      "C:\\Users\\junkyu-laptop\\AppData\\Local\\Microsoft\\Windows\\Fonts\\malgunsl.ttf >> Malgun Gothic\n",
      "C:\\Windows\\Fonts\\AGENCYB.TTF >> Agency FB\n",
      "C:\\Windows\\Fonts\\AGENCYR.TTF >> Agency FB\n",
      "C:\\Windows\\Fonts\\ALGER.TTF >> Algerian\n",
      "C:\\Windows\\Fonts\\ANTQUAB.TTF >> Book Antiqua\n",
      "C:\\Windows\\Fonts\\ANTQUABI.TTF >> Book Antiqua\n",
      "C:\\Windows\\Fonts\\ANTQUAI.TTF >> Book Antiqua\n",
      "C:\\Windows\\Fonts\\ARIALN.TTF >> Arial\n",
      "C:\\Windows\\Fonts\\ARIALNB.TTF >> Arial\n",
      "C:\\Windows\\Fonts\\ARIALNBI.TTF >> Arial\n",
      "C:\\Windows\\Fonts\\ARIALNI.TTF >> Arial\n",
      "C:\\Windows\\Fonts\\ARLRDBD.TTF >> Arial Rounded MT Bold\n",
      "C:\\Windows\\Fonts\\BASKVILL.TTF >> Baskerville Old Face\n",
      "C:\\Windows\\Fonts\\BAUHS93.TTF >> Bauhaus 93\n",
      "C:\\Windows\\Fonts\\BELL.TTF >> Bell MT\n",
      "C:\\Windows\\Fonts\\BELLB.TTF >> Bell MT\n",
      "C:\\Windows\\Fonts\\BELLI.TTF >> Bell MT\n",
      "C:\\Windows\\Fonts\\BERNHC.TTF >> Bernard MT Condensed\n",
      "C:\\Windows\\Fonts\\BKANT.TTF >> Book Antiqua\n",
      "C:\\Windows\\Fonts\\BOD_B.TTF >> Bodoni MT\n",
      "C:\\Windows\\Fonts\\BOD_BI.TTF >> Bodoni MT\n",
      "C:\\Windows\\Fonts\\BOD_BLAI.TTF >> Bodoni MT\n",
      "C:\\Windows\\Fonts\\BOD_BLAR.TTF >> Bodoni MT\n",
      "C:\\Windows\\Fonts\\BOD_CB.TTF >> Bodoni MT\n",
      "C:\\Windows\\Fonts\\BOD_CBI.TTF >> Bodoni MT\n",
      "C:\\Windows\\Fonts\\BOD_CI.TTF >> Bodoni MT\n",
      "C:\\Windows\\Fonts\\BOD_CR.TTF >> Bodoni MT\n",
      "C:\\Windows\\Fonts\\BOD_I.TTF >> Bodoni MT\n",
      "C:\\Windows\\Fonts\\BOD_PSTC.TTF >> Bodoni MT\n",
      "C:\\Windows\\Fonts\\BOD_R.TTF >> Bodoni MT\n",
      "C:\\Windows\\Fonts\\BOOKOS.TTF >> Bookman Old Style\n",
      "C:\\Windows\\Fonts\\BOOKOSB.TTF >> Bookman Old Style\n",
      "C:\\Windows\\Fonts\\BOOKOSBI.TTF >> Bookman Old Style\n",
      "C:\\Windows\\Fonts\\BOOKOSI.TTF >> Bookman Old Style\n",
      "C:\\Windows\\Fonts\\BRADHITC.TTF >> Bradley Hand ITC\n",
      "C:\\Windows\\Fonts\\BRITANIC.TTF >> Britannic Bold\n",
      "C:\\Windows\\Fonts\\BRLNSB.TTF >> Berlin Sans FB\n",
      "C:\\Windows\\Fonts\\BRLNSDB.TTF >> Berlin Sans FB Demi\n",
      "C:\\Windows\\Fonts\\BRLNSR.TTF >> Berlin Sans FB\n",
      "C:\\Windows\\Fonts\\BROADW.TTF >> Broadway\n",
      "C:\\Windows\\Fonts\\BRUSHSCI.TTF >> Brush Script MT\n",
      "C:\\Windows\\Fonts\\BSSYM7.TTF >> Bookshelf Symbol 7\n",
      "C:\\Windows\\Fonts\\CALIFB.TTF >> Californian FB\n",
      "C:\\Windows\\Fonts\\CALIFI.TTF >> Californian FB\n",
      "C:\\Windows\\Fonts\\CALIFR.TTF >> Californian FB\n",
      "C:\\Windows\\Fonts\\CALIST.TTF >> Calisto MT\n",
      "C:\\Windows\\Fonts\\CALISTB.TTF >> Calisto MT\n",
      "C:\\Windows\\Fonts\\CALISTBI.TTF >> Calisto MT\n",
      "C:\\Windows\\Fonts\\CALISTI.TTF >> Calisto MT\n",
      "C:\\Windows\\Fonts\\CASTELAR.TTF >> Castellar\n",
      "C:\\Windows\\Fonts\\CENSCBK.TTF >> Century Schoolbook\n",
      "C:\\Windows\\Fonts\\CENTAUR.TTF >> Centaur\n",
      "C:\\Windows\\Fonts\\CENTURY.TTF >> Century\n",
      "C:\\Windows\\Fonts\\CHILLER.TTF >> Chiller\n",
      "C:\\Windows\\Fonts\\COLONNA.TTF >> Colonna MT\n",
      "C:\\Windows\\Fonts\\COOPBL.TTF >> Cooper Black\n",
      "C:\\Windows\\Fonts\\COPRGTB.TTF >> Copperplate Gothic Bold\n",
      "C:\\Windows\\Fonts\\COPRGTL.TTF >> Copperplate Gothic Light\n",
      "C:\\Windows\\Fonts\\CURLZ___.TTF >> Curlz MT\n",
      "C:\\Windows\\Fonts\\Candara.ttf >> Candara\n",
      "C:\\Windows\\Fonts\\Candarab.ttf >> Candara\n",
      "C:\\Windows\\Fonts\\Candarai.ttf >> Candara\n",
      "C:\\Windows\\Fonts\\Candaral.ttf >> Candara\n",
      "C:\\Windows\\Fonts\\Candarali.ttf >> Candara\n",
      "C:\\Windows\\Fonts\\Candaraz.ttf >> Candara\n",
      "C:\\Windows\\Fonts\\DUBAI-BOLD.TTF >> Dubai\n",
      "C:\\Windows\\Fonts\\DUBAI-LIGHT.TTF >> Dubai\n",
      "C:\\Windows\\Fonts\\DUBAI-MEDIUM.TTF >> Dubai\n",
      "C:\\Windows\\Fonts\\DUBAI-REGULAR.TTF >> Dubai\n",
      "C:\\Windows\\Fonts\\ELEPHNT.TTF >> Elephant\n",
      "C:\\Windows\\Fonts\\ELEPHNTI.TTF >> Elephant\n",
      "C:\\Windows\\Fonts\\ENGR.TTF >> Engravers MT\n",
      "C:\\Windows\\Fonts\\ERASBD.TTF >> Eras Bold ITC\n",
      "C:\\Windows\\Fonts\\ERASDEMI.TTF >> Eras Demi ITC\n",
      "C:\\Windows\\Fonts\\ERASLGHT.TTF >> Eras Light ITC\n",
      "C:\\Windows\\Fonts\\ERASMD.TTF >> Eras Medium ITC\n",
      "C:\\Windows\\Fonts\\FELIXTI.TTF >> Felix Titling\n",
      "C:\\Windows\\Fonts\\FORTE.TTF >> Forte\n",
      "C:\\Windows\\Fonts\\FRABK.TTF >> Franklin Gothic Book\n",
      "C:\\Windows\\Fonts\\FRABKIT.TTF >> Franklin Gothic Book\n",
      "C:\\Windows\\Fonts\\FRADM.TTF >> Franklin Gothic Demi\n",
      "C:\\Windows\\Fonts\\FRADMCN.TTF >> Franklin Gothic Demi Cond\n",
      "C:\\Windows\\Fonts\\FRADMIT.TTF >> Franklin Gothic Demi\n",
      "C:\\Windows\\Fonts\\FRAHV.TTF >> Franklin Gothic Heavy\n",
      "C:\\Windows\\Fonts\\FRAHVIT.TTF >> Franklin Gothic Heavy\n",
      "C:\\Windows\\Fonts\\FRAMDCN.TTF >> Franklin Gothic Medium Cond\n",
      "C:\\Windows\\Fonts\\FREESCPT.TTF >> Freestyle Script\n",
      "C:\\Windows\\Fonts\\FRSCRIPT.TTF >> French Script MT\n",
      "C:\\Windows\\Fonts\\FTLTLT.TTF >> Footlight MT Light\n",
      "C:\\Windows\\Fonts\\GARA.TTF >> Garamond\n",
      "C:\\Windows\\Fonts\\GARABD.TTF >> Garamond\n",
      "C:\\Windows\\Fonts\\GARAIT.TTF >> Garamond\n",
      "C:\\Windows\\Fonts\\GIGI.TTF >> Gigi\n",
      "C:\\Windows\\Fonts\\GILBI___.TTF >> Gill Sans MT\n",
      "C:\\Windows\\Fonts\\GILB____.TTF >> Gill Sans MT\n",
      "C:\\Windows\\Fonts\\GILC____.TTF >> Gill Sans MT Condensed\n",
      "C:\\Windows\\Fonts\\GILI____.TTF >> Gill Sans MT\n",
      "C:\\Windows\\Fonts\\GILLUBCD.TTF >> Gill Sans Ultra Bold Condensed\n",
      "C:\\Windows\\Fonts\\GILSANUB.TTF >> Gill Sans Ultra Bold\n",
      "C:\\Windows\\Fonts\\GIL_____.TTF >> Gill Sans MT\n",
      "C:\\Windows\\Fonts\\GLECB.TTF >> Gloucester MT Extra Condensed\n",
      "C:\\Windows\\Fonts\\GLSNECB.TTF >> Gill Sans MT Ext Condensed Bold\n",
      "C:\\Windows\\Fonts\\GOTHIC.TTF >> Century Gothic\n",
      "C:\\Windows\\Fonts\\GOTHICB.TTF >> Century Gothic\n",
      "C:\\Windows\\Fonts\\GOTHICBI.TTF >> Century Gothic\n",
      "C:\\Windows\\Fonts\\GOTHICI.TTF >> Century Gothic\n",
      "C:\\Windows\\Fonts\\GOUDOS.TTF >> Goudy Old Style\n",
      "C:\\Windows\\Fonts\\GOUDOSB.TTF >> Goudy Old Style\n",
      "C:\\Windows\\Fonts\\GOUDOSI.TTF >> Goudy Old Style\n",
      "C:\\Windows\\Fonts\\GOUDYSTO.TTF >> Goudy Stout\n",
      "C:\\Windows\\Fonts\\Gabriola.ttf >> Gabriola\n",
      "C:\\Windows\\Fonts\\H2GPRM.TTF >> HYGraphic-Medium\n",
      "C:\\Windows\\Fonts\\H2GSRB.TTF >> HYGungSo-Bold\n",
      "C:\\Windows\\Fonts\\H2GTRE.TTF >> HYGothic-Extra\n",
      "C:\\Windows\\Fonts\\H2GTRM.TTF >> HYGothic-Medium\n",
      "C:\\Windows\\Fonts\\H2HDRM.TTF >> HYHeadLine-Medium\n",
      "C:\\Windows\\Fonts\\H2MJRE.TTF >> HYMyeongJo-Extra\n",
      "C:\\Windows\\Fonts\\H2MJSM.TTF >> HYSinMyeongJo-Medium\n",
      "C:\\Windows\\Fonts\\H2MKPB.TTF >> HYPMokGak-Bold\n",
      "C:\\Windows\\Fonts\\H2PORL.TTF >> HYPost-Light\n",
      "C:\\Windows\\Fonts\\H2PORM.TTF >> HYPost-Medium\n",
      "C:\\Windows\\Fonts\\H2SA1M.TTF >> HYShortSamul-Medium\n",
      "C:\\Windows\\Fonts\\HANBatang.ttf >> HCR Batang\n",
      "C:\\Windows\\Fonts\\HANBatangB.ttf >> HCR Batang\n",
      "C:\\Windows\\Fonts\\HANBatangExt.ttf >> HCR Batang Ext\n",
      "C:\\Windows\\Fonts\\HANBatangExtB.ttf >> HCR Batang ExtB\n",
      "C:\\Windows\\Fonts\\HANBatangExtBB.ttf >> HCR Batang ExtB\n",
      "C:\\Windows\\Fonts\\HANDotum.ttf >> HCR Dotum\n",
      "C:\\Windows\\Fonts\\HANDotumB.ttf >> HCR Dotum\n",
      "C:\\Windows\\Fonts\\HANDotumExt.ttf >> HCR Dotum Ext\n",
      "C:\\Windows\\Fonts\\HANWing2.ttf >> Haan Wing2\n",
      "C:\\Windows\\Fonts\\HARLOWSI.TTF >> Harlow Solid Italic\n",
      "C:\\Windows\\Fonts\\HARNGTON.TTF >> Harrington\n",
      "C:\\Windows\\Fonts\\HATTEN.TTF >> Haettenschweiler\n",
      "C:\\Windows\\Fonts\\HMFMMUEX.TTC >> MoeumT R\n",
      "C:\\Windows\\Fonts\\HMFMOLD.TTF >> Yet R\n",
      "C:\\Windows\\Fonts\\HMFMPYUN.TTF >> Pyunji R\n",
      "C:\\Windows\\Fonts\\HMKMAMI.TTF >> Ami R\n",
      "C:\\Windows\\Fonts\\HMKMMAG.TTF >> Magic R\n",
      "C:\\Windows\\Fonts\\HMKMRHD.TTF >> Headline R\n",
      "C:\\Windows\\Fonts\\HTOWERT.TTF >> High Tower Text\n",
      "C:\\Windows\\Fonts\\HTOWERTI.TTF >> High Tower Text\n",
      "C:\\Windows\\Fonts\\HYHWPEQ.TTF >> HyhwpEQ\n",
      "C:\\Windows\\Fonts\\HanSantteutDotum-Bold.ttf >> Han Santteut Dotum\n",
      "C:\\Windows\\Fonts\\HanSantteutDotum-Regular.ttf >> Han Santteut Dotum\n",
      "C:\\Windows\\Fonts\\Hancom Gothic Bold.ttf >> Hancom Gothic\n",
      "C:\\Windows\\Fonts\\Hancom Gothic Regular.ttf >> Hancom Gothic\n",
      "C:\\Windows\\Fonts\\HancomEQN.ttf >> HancomEQN\n",
      "C:\\Windows\\Fonts\\IMPRISHA.TTF >> Imprint MT Shadow\n",
      "C:\\Windows\\Fonts\\INFROMAN.TTF >> Informal Roman\n",
      "C:\\Windows\\Fonts\\ITCBLKAD.TTF >> Blackadder ITC\n",
      "C:\\Windows\\Fonts\\ITCEDSCR.TTF >> Edwardian Script ITC\n",
      "C:\\Windows\\Fonts\\ITCKRIST.TTF >> Kristen ITC\n",
      "C:\\Windows\\Fonts\\Inkfree.ttf >> Ink Free\n",
      "C:\\Windows\\Fonts\\JOKERMAN.TTF >> Jokerman\n",
      "C:\\Windows\\Fonts\\JUICE___.TTF >> Juice ITC\n",
      "C:\\Windows\\Fonts\\JUMJA.TTF >> NewJumja\n",
      "C:\\Windows\\Fonts\\KUNSTLER.TTF >> Kunstler Script\n",
      "C:\\Windows\\Fonts\\LATINWD.TTF >> Wide Latin\n",
      "C:\\Windows\\Fonts\\LBRITE.TTF >> Lucida Bright\n",
      "C:\\Windows\\Fonts\\LBRITED.TTF >> Lucida Bright\n",
      "C:\\Windows\\Fonts\\LBRITEDI.TTF >> Lucida Bright\n",
      "C:\\Windows\\Fonts\\LBRITEI.TTF >> Lucida Bright\n",
      "C:\\Windows\\Fonts\\LCALLIG.TTF >> Lucida Calligraphy\n",
      "C:\\Windows\\Fonts\\LEELAWAD.TTF >> Leelawadee\n",
      "C:\\Windows\\Fonts\\LEELAWDB.TTF >> Leelawadee\n",
      "C:\\Windows\\Fonts\\LFAX.TTF >> Lucida Fax\n",
      "C:\\Windows\\Fonts\\LFAXD.TTF >> Lucida Fax\n",
      "C:\\Windows\\Fonts\\LFAXDI.TTF >> Lucida Fax\n",
      "C:\\Windows\\Fonts\\LFAXI.TTF >> Lucida Fax\n",
      "C:\\Windows\\Fonts\\LHANDW.TTF >> Lucida Handwriting\n",
      "C:\\Windows\\Fonts\\LSANS.TTF >> Lucida Sans\n",
      "C:\\Windows\\Fonts\\LSANSD.TTF >> Lucida Sans\n",
      "C:\\Windows\\Fonts\\LSANSDI.TTF >> Lucida Sans\n",
      "C:\\Windows\\Fonts\\LSANSI.TTF >> Lucida Sans\n",
      "C:\\Windows\\Fonts\\LTYPE.TTF >> Lucida Sans Typewriter\n",
      "C:\\Windows\\Fonts\\LTYPEB.TTF >> Lucida Sans Typewriter\n",
      "C:\\Windows\\Fonts\\LTYPEBO.TTF >> Lucida Sans Typewriter\n",
      "C:\\Windows\\Fonts\\LTYPEO.TTF >> Lucida Sans Typewriter\n",
      "C:\\Windows\\Fonts\\LeelUIsl.ttf >> Leelawadee UI\n",
      "C:\\Windows\\Fonts\\LeelaUIb.ttf >> Leelawadee UI\n",
      "C:\\Windows\\Fonts\\LeelawUI.ttf >> Leelawadee UI\n",
      "C:\\Windows\\Fonts\\MAGNETOB.TTF >> Magneto\n",
      "C:\\Windows\\Fonts\\MAIAN.TTF >> Maiandra GD\n",
      "C:\\Windows\\Fonts\\MATURASC.TTF >> Matura MT Script Capitals\n",
      "C:\\Windows\\Fonts\\MISTRAL.TTF >> Mistral\n",
      "C:\\Windows\\Fonts\\MOD20.TTF >> Modern No. 20\n",
      "C:\\Windows\\Fonts\\MSUIGHUB.TTF >> Microsoft Uighur\n",
      "C:\\Windows\\Fonts\\MSUIGHUR.TTF >> Microsoft Uighur\n",
      "C:\\Windows\\Fonts\\MTCORSVA.TTF >> Monotype Corsiva\n",
      "C:\\Windows\\Fonts\\MTEXTRA.TTF >> MT Extra\n",
      "C:\\Windows\\Fonts\\NGULIM.TTF >> New Gulim\n",
      "C:\\Windows\\Fonts\\NIAGENG.TTF >> Niagara Engraved\n",
      "C:\\Windows\\Fonts\\NIAGSOL.TTF >> Niagara Solid\n",
      "C:\\Windows\\Fonts\\Nirmala.ttf >> Nirmala UI\n",
      "C:\\Windows\\Fonts\\NirmalaB.ttf >> Nirmala UI\n",
      "C:\\Windows\\Fonts\\NirmalaS.ttf >> Nirmala UI\n",
      "C:\\Windows\\Fonts\\OCRAEXT.TTF >> OCR A Extended\n",
      "C:\\Windows\\Fonts\\OLDENGL.TTF >> Old English Text MT\n",
      "C:\\Windows\\Fonts\\ONYX.TTF >> Onyx\n",
      "C:\\Windows\\Fonts\\OUTLOOK.TTF >> MS Outlook\n",
      "C:\\Windows\\Fonts\\PALSCRI.TTF >> Palace Script MT\n",
      "C:\\Windows\\Fonts\\PAPYRUS.TTF >> Papyrus\n",
      "C:\\Windows\\Fonts\\PARCHM.TTF >> Parchment\n",
      "C:\\Windows\\Fonts\\PERBI___.TTF >> Perpetua\n",
      "C:\\Windows\\Fonts\\PERB____.TTF >> Perpetua\n",
      "C:\\Windows\\Fonts\\PERI____.TTF >> Perpetua\n",
      "C:\\Windows\\Fonts\\PERTIBD.TTF >> Perpetua Titling MT\n",
      "C:\\Windows\\Fonts\\PERTILI.TTF >> Perpetua Titling MT\n",
      "C:\\Windows\\Fonts\\PER_____.TTF >> Perpetua\n",
      "C:\\Windows\\Fonts\\PLAYBILL.TTF >> Playbill\n",
      "C:\\Windows\\Fonts\\POORICH.TTF >> Poor Richard\n",
      "C:\\Windows\\Fonts\\PRISTINA.TTF >> Pristina\n",
      "C:\\Windows\\Fonts\\RAGE.TTF >> Rage Italic\n",
      "C:\\Windows\\Fonts\\RAVIE.TTF >> Ravie\n",
      "C:\\Windows\\Fonts\\REFSAN.TTF >> MS Reference Sans Serif\n",
      "C:\\Windows\\Fonts\\REFSPCL.TTF >> MS Reference Specialty\n",
      "C:\\Windows\\Fonts\\ROCCB___.TTF >> Rockwell Condensed\n",
      "C:\\Windows\\Fonts\\ROCC____.TTF >> Rockwell Condensed\n",
      "C:\\Windows\\Fonts\\ROCK.TTF >> Rockwell\n",
      "C:\\Windows\\Fonts\\ROCKB.TTF >> Rockwell\n",
      "C:\\Windows\\Fonts\\ROCKBI.TTF >> Rockwell\n",
      "C:\\Windows\\Fonts\\ROCKEB.TTF >> Rockwell Extra Bold\n",
      "C:\\Windows\\Fonts\\ROCKI.TTF >> Rockwell\n",
      "C:\\Windows\\Fonts\\SCHLBKB.TTF >> Century Schoolbook\n",
      "C:\\Windows\\Fonts\\SCHLBKBI.TTF >> Century Schoolbook\n",
      "C:\\Windows\\Fonts\\SCHLBKI.TTF >> Century Schoolbook\n",
      "C:\\Windows\\Fonts\\SCRIPTBL.TTF >> Script MT Bold\n",
      "C:\\Windows\\Fonts\\SHOWG.TTF >> Showcard Gothic\n",
      "C:\\Windows\\Fonts\\SNAP____.TTF >> Snap ITC\n",
      "C:\\Windows\\Fonts\\STENCIL.TTF >> Stencil\n",
      "C:\\Windows\\Fonts\\Sitka.ttc >> Sitka Small\n",
      "C:\\Windows\\Fonts\\SitkaB.ttc >> Sitka Small\n",
      "C:\\Windows\\Fonts\\SitkaI.ttc >> Sitka Small\n",
      "C:\\Windows\\Fonts\\SitkaZ.ttc >> Sitka Small\n",
      "C:\\Windows\\Fonts\\TCBI____.TTF >> Tw Cen MT\n",
      "C:\\Windows\\Fonts\\TCB_____.TTF >> Tw Cen MT\n",
      "C:\\Windows\\Fonts\\TCCB____.TTF >> Tw Cen MT Condensed\n",
      "C:\\Windows\\Fonts\\TCCEB.TTF >> Tw Cen MT Condensed Extra Bold\n",
      "C:\\Windows\\Fonts\\TCCM____.TTF >> Tw Cen MT Condensed\n",
      "C:\\Windows\\Fonts\\TCMI____.TTF >> Tw Cen MT\n",
      "C:\\Windows\\Fonts\\TCM_____.TTF >> Tw Cen MT\n",
      "C:\\Windows\\Fonts\\TEMPSITC.TTF >> Tempus Sans ITC\n",
      "C:\\Windows\\Fonts\\VINERITC.TTF >> Viner Hand ITC\n",
      "C:\\Windows\\Fonts\\VIVALDII.TTF >> Vivaldi\n",
      "C:\\Windows\\Fonts\\VLADIMIR.TTF >> Vladimir Script\n",
      "C:\\Windows\\Fonts\\WINGDNG2.TTF >> Wingdings 2\n",
      "C:\\Windows\\Fonts\\WINGDNG3.TTF >> Wingdings 3\n",
      "C:\\Windows\\Fonts\\YuGothB.ttc >> Yu Gothic\n",
      "C:\\Windows\\Fonts\\YuGothL.ttc >> Yu Gothic\n",
      "C:\\Windows\\Fonts\\YuGothM.ttc >> Yu Gothic\n",
      "C:\\Windows\\Fonts\\YuGothR.ttc >> Yu Gothic\n",
      "C:\\Windows\\Fonts\\arial.ttf >> Arial\n",
      "C:\\Windows\\Fonts\\arialbd.ttf >> Arial\n",
      "C:\\Windows\\Fonts\\arialbi.ttf >> Arial\n",
      "C:\\Windows\\Fonts\\ariali.ttf >> Arial\n",
      "C:\\Windows\\Fonts\\ariblk.ttf >> Arial\n",
      "C:\\Windows\\Fonts\\bahnschrift.ttf >> Bahnschrift\n",
      "C:\\Windows\\Fonts\\batang.ttc >> Batang\n",
      "C:\\Windows\\Fonts\\calibri.ttf >> Calibri\n",
      "C:\\Windows\\Fonts\\calibrib.ttf >> Calibri\n",
      "C:\\Windows\\Fonts\\calibrii.ttf >> Calibri\n",
      "C:\\Windows\\Fonts\\calibril.ttf >> Calibri\n",
      "C:\\Windows\\Fonts\\calibrili.ttf >> Calibri\n",
      "C:\\Windows\\Fonts\\calibriz.ttf >> Calibri\n",
      "C:\\Windows\\Fonts\\cambria.ttc >> Cambria\n",
      "C:\\Windows\\Fonts\\cambriab.ttf >> Cambria\n",
      "C:\\Windows\\Fonts\\cambriai.ttf >> Cambria\n",
      "C:\\Windows\\Fonts\\cambriaz.ttf >> Cambria\n",
      "C:\\Windows\\Fonts\\comic.ttf >> Comic Sans MS\n",
      "C:\\Windows\\Fonts\\comicbd.ttf >> Comic Sans MS\n",
      "C:\\Windows\\Fonts\\comici.ttf >> Comic Sans MS\n",
      "C:\\Windows\\Fonts\\comicz.ttf >> Comic Sans MS\n",
      "C:\\Windows\\Fonts\\consola.ttf >> Consolas\n",
      "C:\\Windows\\Fonts\\consolab.ttf >> Consolas\n",
      "C:\\Windows\\Fonts\\consolai.ttf >> Consolas\n",
      "C:\\Windows\\Fonts\\consolaz.ttf >> Consolas\n",
      "C:\\Windows\\Fonts\\constan.ttf >> Constantia\n",
      "C:\\Windows\\Fonts\\constanb.ttf >> Constantia\n",
      "C:\\Windows\\Fonts\\constani.ttf >> Constantia\n",
      "C:\\Windows\\Fonts\\constanz.ttf >> Constantia\n",
      "C:\\Windows\\Fonts\\corbel.ttf >> Corbel\n",
      "C:\\Windows\\Fonts\\corbelb.ttf >> Corbel\n",
      "C:\\Windows\\Fonts\\corbeli.ttf >> Corbel\n",
      "C:\\Windows\\Fonts\\corbell.ttf >> Corbel\n",
      "C:\\Windows\\Fonts\\corbelli.ttf >> Corbel\n",
      "C:\\Windows\\Fonts\\corbelz.ttf >> Corbel\n",
      "C:\\Windows\\Fonts\\cour.ttf >> Courier New\n",
      "C:\\Windows\\Fonts\\courbd.ttf >> Courier New\n",
      "C:\\Windows\\Fonts\\courbi.ttf >> Courier New\n",
      "C:\\Windows\\Fonts\\couri.ttf >> Courier New\n",
      "C:\\Windows\\Fonts\\ebrima.ttf >> Ebrima\n",
      "C:\\Windows\\Fonts\\ebrimabd.ttf >> Ebrima\n",
      "C:\\Windows\\Fonts\\framd.ttf >> Franklin Gothic Medium\n",
      "C:\\Windows\\Fonts\\framdit.ttf >> Franklin Gothic Medium\n",
      "C:\\Windows\\Fonts\\gadugi.ttf >> Gadugi\n",
      "C:\\Windows\\Fonts\\gadugib.ttf >> Gadugi\n",
      "C:\\Windows\\Fonts\\georgia.ttf >> Georgia\n",
      "C:\\Windows\\Fonts\\georgiab.ttf >> Georgia\n",
      "C:\\Windows\\Fonts\\georgiai.ttf >> Georgia\n",
      "C:\\Windows\\Fonts\\georgiaz.ttf >> Georgia\n",
      "C:\\Windows\\Fonts\\gulim.ttc >> Gulim\n",
      "C:\\Windows\\Fonts\\himalaya.ttf >> Microsoft Himalaya\n",
      "C:\\Windows\\Fonts\\holomdl2.ttf >> HoloLens MDL2 Assets\n",
      "C:\\Windows\\Fonts\\impact.ttf >> Impact\n",
      "C:\\Windows\\Fonts\\javatext.ttf >> Javanese Text\n",
      "C:\\Windows\\Fonts\\l_10646.ttf >> Lucida Sans Unicode\n",
      "C:\\Windows\\Fonts\\lucon.ttf >> Lucida Console\n",
      "C:\\Windows\\Fonts\\malgun.ttf >> Malgun Gothic\n",
      "C:\\Windows\\Fonts\\malgunbd.ttf >> Malgun Gothic\n",
      "C:\\Windows\\Fonts\\malgunsl.ttf >> Malgun Gothic\n",
      "C:\\Windows\\Fonts\\marlett.ttf >> Marlett\n",
      "C:\\Windows\\Fonts\\micross.ttf >> Microsoft Sans Serif\n",
      "C:\\Windows\\Fonts\\mingliub.ttc >> MingLiU-ExtB\n",
      "C:\\Windows\\Fonts\\mmrtext.ttf >> Myanmar Text\n",
      "C:\\Windows\\Fonts\\mmrtextb.ttf >> Myanmar Text\n",
      "C:\\Windows\\Fonts\\monbaiti.ttf >> Mongolian Baiti\n",
      "C:\\Windows\\Fonts\\msgothic.ttc >> MS Gothic\n",
      "C:\\Windows\\Fonts\\msjh.ttc >> Microsoft JhengHei\n",
      "C:\\Windows\\Fonts\\msjhbd.ttc >> Microsoft JhengHei\n",
      "C:\\Windows\\Fonts\\msjhl.ttc >> Microsoft JhengHei\n",
      "C:\\Windows\\Fonts\\msyh.ttc >> Microsoft YaHei\n",
      "C:\\Windows\\Fonts\\msyhbd.ttc >> Microsoft YaHei\n",
      "C:\\Windows\\Fonts\\msyhl.ttc >> Microsoft YaHei\n",
      "C:\\Windows\\Fonts\\msyi.ttf >> Microsoft Yi Baiti\n",
      "C:\\Windows\\Fonts\\mvboli.ttf >> MV Boli\n",
      "C:\\Windows\\Fonts\\ntailu.ttf >> Microsoft New Tai Lue\n",
      "C:\\Windows\\Fonts\\ntailub.ttf >> Microsoft New Tai Lue\n",
      "C:\\Windows\\Fonts\\pala.ttf >> Palatino Linotype\n",
      "C:\\Windows\\Fonts\\palab.ttf >> Palatino Linotype\n",
      "C:\\Windows\\Fonts\\palabi.ttf >> Palatino Linotype\n",
      "C:\\Windows\\Fonts\\palai.ttf >> Palatino Linotype\n",
      "C:\\Windows\\Fonts\\phagspa.ttf >> Microsoft PhagsPa\n",
      "C:\\Windows\\Fonts\\phagspab.ttf >> Microsoft PhagsPa\n",
      "C:\\Windows\\Fonts\\segmdl2.ttf >> Segoe MDL2 Assets\n",
      "C:\\Windows\\Fonts\\segoepr.ttf >> Segoe Print\n",
      "C:\\Windows\\Fonts\\segoeprb.ttf >> Segoe Print\n",
      "C:\\Windows\\Fonts\\segoesc.ttf >> Segoe Script\n",
      "C:\\Windows\\Fonts\\segoescb.ttf >> Segoe Script\n",
      "C:\\Windows\\Fonts\\segoeui.ttf >> Segoe UI\n",
      "C:\\Windows\\Fonts\\segoeuib.ttf >> Segoe UI\n",
      "C:\\Windows\\Fonts\\segoeuii.ttf >> Segoe UI\n",
      "C:\\Windows\\Fonts\\segoeuil.ttf >> Segoe UI\n",
      "C:\\Windows\\Fonts\\segoeuisl.ttf >> Segoe UI\n",
      "C:\\Windows\\Fonts\\segoeuiz.ttf >> Segoe UI\n",
      "C:\\Windows\\Fonts\\seguibl.ttf >> Segoe UI\n",
      "C:\\Windows\\Fonts\\seguibli.ttf >> Segoe UI\n",
      "C:\\Windows\\Fonts\\seguiemj.ttf >> Segoe UI Emoji\n",
      "C:\\Windows\\Fonts\\seguihis.ttf >> Segoe UI Historic\n",
      "C:\\Windows\\Fonts\\seguili.ttf >> Segoe UI\n",
      "C:\\Windows\\Fonts\\seguisb.ttf >> Segoe UI\n",
      "C:\\Windows\\Fonts\\seguisbi.ttf >> Segoe UI\n",
      "C:\\Windows\\Fonts\\seguisli.ttf >> Segoe UI\n",
      "C:\\Windows\\Fonts\\seguisym.ttf >> Segoe UI Symbol\n",
      "C:\\Windows\\Fonts\\simsun.ttc >> SimSun\n",
      "C:\\Windows\\Fonts\\simsunb.ttf >> SimSun-ExtB\n",
      "C:\\Windows\\Fonts\\sylfaen.ttf >> Sylfaen\n",
      "C:\\Windows\\Fonts\\symbol.ttf >> Symbol\n",
      "C:\\Windows\\Fonts\\tahoma.ttf >> Tahoma\n",
      "C:\\Windows\\Fonts\\tahomabd.ttf >> Tahoma\n",
      "C:\\Windows\\Fonts\\taile.ttf >> Microsoft Tai Le\n",
      "C:\\Windows\\Fonts\\taileb.ttf >> Microsoft Tai Le\n",
      "C:\\Windows\\Fonts\\times.ttf >> Times New Roman\n",
      "C:\\Windows\\Fonts\\timesbd.ttf >> Times New Roman\n",
      "C:\\Windows\\Fonts\\timesbi.ttf >> Times New Roman\n",
      "C:\\Windows\\Fonts\\timesi.ttf >> Times New Roman\n",
      "C:\\Windows\\Fonts\\trebuc.ttf >> Trebuchet MS\n",
      "C:\\Windows\\Fonts\\trebucbd.ttf >> Trebuchet MS\n",
      "C:\\Windows\\Fonts\\trebucbi.ttf >> Trebuchet MS\n",
      "C:\\Windows\\Fonts\\trebucit.ttf >> Trebuchet MS\n",
      "C:\\Windows\\Fonts\\verdana.ttf >> Verdana\n",
      "C:\\Windows\\Fonts\\verdanab.ttf >> Verdana\n",
      "C:\\Windows\\Fonts\\verdanai.ttf >> Verdana\n",
      "C:\\Windows\\Fonts\\verdanaz.ttf >> Verdana\n",
      "C:\\Windows\\Fonts\\webdings.ttf >> Webdings\n",
      "C:\\Windows\\Fonts\\wingding.ttf >> Wingdings\n"
     ]
    }
   ],
   "source": [
    "#한글폰트설정\n",
    "import os \n",
    "\n",
    "import sys \n",
    "\n",
    "if sys.platform=='win32':\n",
    "  \n",
    "    #시스템 글꼴 목록을 리스트로 가져오기 \n",
    "\n",
    "    font_list=fm.findSystemFonts() \n",
    "\n",
    "    \n",
    "    # 이름순정렬\n",
    "\n",
    "    font_list.sort() \n",
    "    \n",
    "    # 리스트탐색반복\n",
    "\n",
    "    for file_path in font_list:\n",
    "\n",
    "        #폰트 파일의 경로를 사용하여 폰트 속성 객체 가져오기\n",
    "\n",
    "        fp=fm.FontProperties(fname=file_path) \n",
    "\n",
    "        \n",
    "        # 폰트 속성을 통해 파이썬에 설정해야 하는 폰트 이름 조회 \n",
    "\n",
    "        font_name=fp.get_name() \n",
    "\n",
    "        \n",
    "        # 폰트 파일 경로와 폰트 이름 출력하기\n",
    "\n",
    "        print(\"%s >> %s\" %(file_path,font_name))\n",
    "\n",
    " "
   ]
  },
  {
   "cell_type": "code",
   "execution_count": 99,
   "metadata": {},
   "outputs": [
    {
     "name": "stdout",
     "output_type": "stream",
     "text": [
      "Malgun Gothic\n"
     ]
    }
   ],
   "source": [
    "#한글폰트설정\n",
    "font_path = 'C:\\\\Windows\\\\Fonts\\\\malgun.ttf'\n",
    "font_prop = fm.FontProperties(fname=font_path).get_name()\n",
    "print(font_prop)\n",
    "#rc함수써서 폰트이름설정\n",
    "matplotlib.rc('font', family=font_prop)"
   ]
  },
  {
   "cell_type": "markdown",
   "metadata": {},
   "source": [
    "#### Seaborn의 막대그래프\n",
    "* barplot - x축과 y축을 둘 다 설정할 수 있음\n",
    "* countplot - x축 이나 y축 중에서 하나만 설정할 수 있음"
   ]
  },
  {
   "cell_type": "code",
   "execution_count": 77,
   "metadata": {},
   "outputs": [
    {
     "data": {
      "text/plain": [
       "Index(['더불어민주당', '국민의힘', '정의당', '무소속', '국민의당', '기본소득당', '시대전환'], dtype='object')"
      ]
     },
     "execution_count": 77,
     "metadata": {},
     "output_type": "execute_result"
    }
   ],
   "source": [
    "member_df['정당'].value_counts().index"
   ]
  },
  {
   "cell_type": "code",
   "execution_count": 100,
   "metadata": {},
   "outputs": [
    {
     "data": {
      "text/plain": [
       "<AxesSubplot:xlabel='당선횟수2', ylabel='count'>"
      ]
     },
     "execution_count": 100,
     "metadata": {},
     "output_type": "execute_result"
    },
    {
     "data": {
      "image/png": "[encoded data removed]",
      "text/plain": [
       "<Figure size 1440x720 with 2 Axes>"
      ]
     },
     "metadata": {
      "needs_background": "light"
     },
     "output_type": "display_data"
    }
   ],
   "source": [
    "#x축 y축 2행 1열 \n",
    "figure, (axes1,axes2) = plt.subplots(nrows=2, ncols=1)\n",
    "#크기\n",
    "figure.set_size_inches(20,10)\n",
    "\n",
    "#x축\n",
    "seaborn.countplot(data=member_df, x='정당', ax=axes1, order=member_df['정당'].value_counts().index)\n",
    "seaborn.countplot(data=member_df, x='당선횟수2', ax=axes2, order=member_df['당선횟수2'].value_counts().index)"
   ]
  },
  {
   "cell_type": "code",
   "execution_count": null,
   "metadata": {},
   "outputs": [],
   "source": []
  }
 ],
 "metadata": {
  "interpreter": {
   "hash": "b4d6975e63639c3aa81a2dc73f143652a4160989bc4b8183e6854b604fb91be5"
  },
  "kernelspec": {
   "display_name": "Python 3.9.7 ('base')",
   "language": "python",
   "name": "python3"
  },
  "language_info": {
   "codemirror_mode": {
    "name": "ipython",
    "version": 3
   },
   "file_extension": ".py",
   "mimetype": "text/x-python",
   "name": "python",
   "nbconvert_exporter": "python",
   "pygments_lexer": "ipython3",
   "version": "3.9.7"
  },
  "orig_nbformat": 4
 },
 "nbformat": 4,
 "nbformat_minor": 2
}
