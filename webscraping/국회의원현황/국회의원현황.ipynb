{
 "cells": [
  {
   "cell_type": "markdown",
   "metadata": {},
   "source": [
    "## 국회의원 현황정보 수집/분석/시각화/저장\n",
    "* 이름과 ID 추출\n",
    "* 상세페이지 정보 추출 (json으로 저장)\n",
    "* 상세정보들을 DataFrame으로 변환\n",
    "* 시각화(막대그래프,히스토그램, 파이챠트, 히트맵)\n",
    "* 테이블로 저장"
   ]
  },
  {
   "cell_type": "code",
   "execution_count": 1,
   "metadata": {},
   "outputs": [],
   "source": [
    "import requests\n",
    "from bs4 import BeautifulSoup\n",
    "import re\n"
   ]
  },
  {
   "cell_type": "code",
   "execution_count": 2,
   "metadata": {},
   "outputs": [
    {
     "name": "stdout",
     "output_type": "stream",
     "text": [
      "200\n"
     ]
    }
   ],
   "source": [
    "url = 'https://www.assembly.go.kr/assm/memact/congressman/memCond/memCondListAjax.do'\n",
    "\n",
    "req_param_dict={\n",
    "    'currentPage' : 1,\n",
    "    'rowPerPage' : 300\n",
    "}\n",
    "\n",
    "res = requests.get(url, params=req_param_dict)\n",
    "\n",
    "print(res.status_code)\n",
    "print(res)\n"
   ]
  }
 ],
 "metadata": {
  "interpreter": {
   "hash": "b4d6975e63639c3aa81a2dc73f143652a4160989bc4b8183e6854b604fb91be5"
  },
  "kernelspec": {
   "display_name": "Python 3.9.7 ('base')",
   "language": "python",
   "name": "python3"
  },
  "language_info": {
   "codemirror_mode": {
    "name": "ipython",
    "version": 3
   },
   "file_extension": ".py",
   "mimetype": "text/x-python",
   "name": "python",
   "nbconvert_exporter": "python",
   "pygments_lexer": "ipython3",
   "version": "3.9.7"
  },
  "orig_nbformat": 4
 },
 "nbformat": 4,
 "nbformat_minor": 2
}
